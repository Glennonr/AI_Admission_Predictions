{
  "nbformat": 4,
  "nbformat_minor": 0,
  "metadata": {
    "colab": {
      "name": "PROJ3_Admissions_Predict.ipynb",
      "provenance": [],
      "collapsed_sections": [
        "zItYGnavHiep",
        "AAFLqAEo8VWA",
        "KbmVP3kH8d6h",
        "fu_am3hvHwgo",
        "s4qagFvR-Kj6",
        "kio-IJx4AFYM",
        "c0ZHEc8PBHdx",
        "Y8Ti3hnKB5ni",
        "0fDIWiCOBuoP",
        "8ScBmdr2CmOL",
        "LD3MrZOyMuZY",
        "9DZ1fat9SsQY",
        "stUOHYRnTBPb",
        "VO12-2OM-jZM",
        "LLAZj_F3YAXG",
        "fTWHkwqOYB-C",
        "mBLahH0QYDdg",
        "UG7BB_sTYFVY",
        "NmuMYmVeYGx6",
        "uc128e5eMbb7",
        "1uefcoLvIWo0",
        "T8-f-ZErIjK3",
        "-S97goibIx7j",
        "dT95d88lMEgN",
        "MHAclVYVq9XR",
        "G4gB4lPgI5ar",
        "gRAQXELbz5w9",
        "_2S3Avsuz-wx",
        "tODfcM5J1137",
        "UfwDgTCF32Rm"
      ]
    },
    "kernelspec": {
      "name": "python3",
      "display_name": "Python 3"
    }
  },
  "cells": [
    {
      "cell_type": "markdown",
      "metadata": {
        "id": "Saam6eYhFb1j",
        "colab_type": "text"
      },
      "source": [
        "Will you be accepted?\n",
        "====================\n",
        "\n",
        "We are a Graduate Adminssions Consulting Firm and we want to add a policy that says \"You get in or you get your money back.\"* Before we do that we want to be able to predict with high accuracy what schools a student may or may not be able to get into with a high probability so that we can steer them away from situations that would cost us money (or out right not sell them our services).\n",
        "\n",
        "You are intentially given very little information thus far. You must communicate with your client (me) for additional information as you see fit. But also make sure that your communications are efficient, thought out, and not redundant as your client might get frustrated and \"fire\" you (this only applies to getting information from your client, this does not necessary apply to asking for help with the actual project itself).\n",
        "\n",
        "For this project you must go through most steps in the checklist. You must write responses for all items however sometimes the item will simply be \"does not apply\". Some of the parts are a bit more nebulous and you simply show that you have done things in general. Keep your progress and thoughts organized in this document and use formatting as appropriate (using markdown to add headers and sub-headers for each major part). Do not do the final part (launching the product) and your presentation will be done as information written in this document in a dedicated section, no slides or anything like that. It should however include the best summary plots/graphics/data points.\n",
        "\n",
        "\\* Note that unlike some services, we don't cheat the system, we just make sure the applicant is shown in the best light and made to stand out."
      ]
    },
    {
      "cell_type": "markdown",
      "metadata": {
        "id": "zItYGnavHiep",
        "colab_type": "text"
      },
      "source": [
        "Frame the Problem and Look at the Big Picture\n",
        "======"
      ]
    },
    {
      "cell_type": "markdown",
      "metadata": {
        "id": "AhZj_qwgHkC6",
        "colab_type": "text"
      },
      "source": [
        "1 Define the objective in business terms.\n",
        "\n",
        "**This Graduate Admissions consulting firm has a policy where if you do not get into a school you apply to, you get your money back. To ensure they do not lose too much money, and their predicitons are more accurate, the company wants us to help them predict where students will get into and not get into schools by using data collected through the years prior.**\n",
        "\n",
        "2 How will your solution be used?\n",
        "\n",
        "**Our solution will be used to steer applicants away from graduate schools if they would not be accepted  and towards other options, so the company can continue to use this policy without losing too much money.**\n",
        "\n",
        "3.What are the current solutions/workarounds (if any)?\n",
        "\n",
        "**What the company currently does is each graduate applicant is matched someone on staff and they look over their profile and guess what level they are suited to or if they should be redirected to some other opportunity that isn't graduate school. So whoever the student is matched with gets to determine where they apply. They would solve this problem manually just by looking over the student's information and having someone predict. Not very reliable/reproducable.**\n",
        "\n",
        "4 How should you frame this problem (supervised/unsupervised, online/offline, ...)?\n",
        "\n",
        "**This is a supervised problem and online/offline does not matter. The dataset is not large enough to make a mini-batch online system necessary.**\n",
        "\n",
        "5.How should performance be measured? Is the performance measure aligned with the business objective?\n",
        "\n",
        "**The performance should be measured by calculating the Root Mean Squared Error because the function works with the Regressor models we intend to use. Root Mean Squared Error is also useful because each attribute has the same number of datapoints.**\n",
        "\n",
        "6.What would be the minimum performance needed to reach the business objective?\n",
        "\n",
        "**The minimum performance need to reach the business objective would be about 90% accuracy according to the client, and should not \"round up\" when determining the level of education they could be admitted into.**\n",
        "\n",
        "7.What are comparable problems? Can you reuse experience or tools?\n",
        "\n",
        "**California Housing Income would be comparable in terms of finding a solution. Other problems could also be useful such as MNIST, Early Spring, or Irises in terms of data exploration. There are other pieces of in class notebooks and examples that could be useful as well.**\n",
        "\n",
        "8.Is human expertise available?\n",
        "\n",
        "**The data was generated from this admissions consulting company and they are experts and often agree on the answer if which level of schooling the candidates could get into.**\n",
        "\n",
        "\n",
        "9.How would you solve the problem manually?\n",
        "\n",
        "**We would look over their profile to determine what level they are suited for or if they should be redirected to some other opportunity that isn't graduate school. Our staff would be the ones determining where they should apply using some sort of prediction. Not reliable/reproducable.**\n",
        "\n",
        "10.List the assumptions you (or others) have made so far.\n",
        "\n",
        "**None.**\n",
        "\n",
        "Verify assumptions if possible.\n",
        "\n",
        "**N/A**"
      ]
    },
    {
      "cell_type": "markdown",
      "metadata": {
        "id": "AAFLqAEo8VWA",
        "colab_type": "text"
      },
      "source": [
        "# Imports"
      ]
    },
    {
      "cell_type": "code",
      "metadata": {
        "id": "XjVkPeyQboij",
        "colab_type": "code",
        "colab": {}
      },
      "source": [
        "import numpy as np\n",
        "import pandas as pd\n",
        "from mpl_toolkits import mplot3d\n",
        "import matplotlib.pylab as plt\n",
        "\n",
        "from sklearn.model_selection import train_test_split\n",
        "from pandas.plotting import scatter_matrix\n",
        "from sklearn.model_selection import cross_val_score, GridSearchCV\n",
        "from sklearn.base import BaseEstimator, TransformerMixin, ClassifierMixin\n",
        "from sklearn.impute import SimpleImputer\n",
        "from sklearn.pipeline import Pipeline\n",
        "from sklearn.compose import ColumnTransformer\n",
        "from sklearn.preprocessing import StandardScaler, OneHotEncoder\n",
        "\n",
        "from sklearn.linear_model import ElasticNet, SGDRegressor\n",
        "from sklearn.tree import DecisionTreeRegressor\n",
        "from sklearn.ensemble import RandomForestRegressor, ExtraTreesRegressor\n",
        "from sklearn.metrics import mean_squared_error"
      ],
      "execution_count": null,
      "outputs": []
    },
    {
      "cell_type": "markdown",
      "metadata": {
        "id": "KbmVP3kH8d6h",
        "colab_type": "text"
      },
      "source": [
        "# Functions"
      ]
    },
    {
      "cell_type": "code",
      "metadata": {
        "id": "LqQe7fSqbd8e",
        "colab_type": "code",
        "colab": {}
      },
      "source": [
        "def read_data():\n",
        "  \"\"\"\n",
        "  This function loads the data subset using for this assignment. This takes\n",
        "  30-45 seconds to run.\n",
        "  \"\"\"\n",
        "  return pd.read_csv('https://drive.google.com/uc?export=download&id=12UHYxG0qkqphzr81-xvkJ4Brf_bPTP0a', compression='xz')"
      ],
      "execution_count": null,
      "outputs": []
    },
    {
      "cell_type": "code",
      "metadata": {
        "id": "R6vXOmmctdtp",
        "colab_type": "code",
        "colab": {}
      },
      "source": [
        "from sklearn.utils.metaestimators import if_delegate_has_method\n",
        "class SupervisedPipeline(BaseEstimator):\n",
        "  \"\"\"\n",
        "  This meta estimator wraps the entire process of preprocessing the data\n",
        "  including allowing removal of rows containing bad data across the data and\n",
        "  target for a supervised system and then splitting the target value from the\n",
        "  data and finally training the model.\n",
        "  \"\"\"\n",
        "  def __init__(self, train_preprocessor, label_column, preprocessor, estimator=None):\n",
        "    \"\"\"\n",
        "    train_preprocessor - transformer, this preprocessor is only run on the full\n",
        "                    dataset (i.e. X and y combined) and only during training.\n",
        "                    The goal of this preprocessor should be to only remove rows\n",
        "                    of data across both the data and labels. The result after\n",
        "                    this transform should be data that is compatible with the\n",
        "                    regular preprocessor that the testing data goes through\n",
        "                    except that it also includes the label_column which will be\n",
        "                    removed next.\n",
        "    label_column  - the string name or the integer index of the column that\n",
        "                    contains the label information (y).\n",
        "    preprocessor  - transformer, likely a Pipeline or ColumnTransformer, that\n",
        "                    performs all preprocessing on the data without the labels. \n",
        "                    It is used for both training and testing.\n",
        "    estimator     - classifier or regressor that makes predictions. Can be None\n",
        "                    in which case this class acts as a transformer.\n",
        "    \n",
        "    Overall training process (i.e. fit):\n",
        "      Xt = train_preprocessor.fit_transform(X)\n",
        "      y  = split off label_column from Xt\n",
        "      Xt = preprocessor.fit_transform(Xt, y)\n",
        "      estimator.fit(Xt, y)\n",
        "      \n",
        "    Overall testing process (i.e. predict and similar):\n",
        "      Xt = preprocessor.transform(X)\n",
        "      return estimator.predict(Xt)\n",
        "      \n",
        "      \n",
        "    All of the standard Sklearn estimator methods are supported as long as they\n",
        "    are supported by the given estimator. They can all take Xy datasets.\n",
        "    The fit and score methods can take X and y separately and the prediction\n",
        "    methods can take just X datasets.\n",
        "    \"\"\"\n",
        "    super().__init__()\n",
        "    self.train_preprocessor = train_preprocessor\n",
        "    self.label_column = label_column\n",
        "    self.preprocessor = preprocessor\n",
        "    self.estimator = estimator\n",
        "    \n",
        "  @staticmethod\n",
        "  def __fit_transform(trans, X, **fit_params):\n",
        "    return trans.fit_transform(X, **fit_params) if hasattr(trans, 'fit_transform') else trans.fit(X).transform(X, **fit_params)\n",
        "\n",
        "  def __split(self, X):\n",
        "    \"\"\"Splits the label column from the data\"\"\"\n",
        "    if isinstance(X, pd.DataFrame):\n",
        "      col = X.columns[self.label_column] if isinstance(self.label_column, int) else self.label_column\n",
        "      y = X.loc[:,col]\n",
        "      X = X.drop(columns=col)\n",
        "    else:\n",
        "      y = X[:,self.label_column]\n",
        "      X = np.delete(X, self.label_column, 1)\n",
        "    return X, y\n",
        "  \n",
        "  def __join(self, X, y):\n",
        "    \"\"\"Joins the label column into the data\"\"\"\n",
        "    if isinstance(X, pd.DataFrame):\n",
        "      X.insert(self.label_column if isinstance(self.label_column, int) else len(X.columns), self.label_column, y)\n",
        "      Xy = X\n",
        "    else:\n",
        "      Xy = np.insert(X, self.label_column, y, axis=1)\n",
        "    return Xy\n",
        "\n",
        "  def __fit(self, X, y=None, **fit_params): # TODO: deal with fit_params like in Pipeline\n",
        "    Xy = self.__join(X, y) if y is not None else X\n",
        "    Xt = SupervisedPipeline.__fit_transform(self.train_preprocessor, Xy)\n",
        "    Xt, y = self.__split(Xt)\n",
        "    self.final_X_cols_ = Xt.shape[1]\n",
        "    Xt = SupervisedPipeline.__fit_transform(self.preprocessor, Xt)\n",
        "    return Xt, y, {}\n",
        "\n",
        "  def fit(self, X, y=None, **fit_params):\n",
        "    Xt, y, fit_params = self.__fit(X, y, **fit_params)\n",
        "    if self.estimator is not None:\n",
        "      if isinstance(Xt, pd.DataFrame): Xt = Xt.reset_index(drop=True)\n",
        "      self.estimator.fit(Xt, y, **fit_params)\n",
        "    return self\n",
        "  \n",
        "  @if_delegate_has_method(delegate='estimator')\n",
        "  def fit_predict(self, X, y=None, **fit_params):\n",
        "    Xt, y, fit_params = self.__fit(X, y, **fit_params)\n",
        "    return self.estimator.fit_predict(Xt, y, **fit_params)\n",
        "    \n",
        "  @if_delegate_has_method(delegate='estimator')\n",
        "  def predict(self, X, **predict_params):\n",
        "    if X.shape[1] != self.final_X_cols_: X, _ = self.__split(X)\n",
        "    if isinstance(X, pd.DataFrame): X = X.reset_index(drop=True)\n",
        "    Xt = self.preprocessor.transform(X)\n",
        "    return self.estimator.predict(Xt, **predict_params)\n",
        "\n",
        "  @if_delegate_has_method(delegate='estimator')\n",
        "  def predict_proba(self, X):\n",
        "    if X.shape[1] != self.final_X_cols_: X, _ = self.split_xy(X)\n",
        "    if isinstance(X, pd.DataFrame): X = X.reset_index(drop=True)\n",
        "    Xt = self.preprocessor.transform(X)\n",
        "    return self.estimator.predict_proba(Xt)\n",
        "\n",
        "  @if_delegate_has_method(delegate='estimator')\n",
        "  def predict_log_proba(self, X):\n",
        "    if X.shape[1] != self.final_X_cols_: X, _ = self.split_xy(X)\n",
        "    if isinstance(X, pd.DataFrame): X = X.reset_index(drop=True)\n",
        "    Xt = self.preprocessor.transform(X)\n",
        "    return self.estimator.predict_log_proba(Xt)\n",
        "\n",
        "  @if_delegate_has_method(delegate='estimator')\n",
        "  def decision_function(self, X):\n",
        "    if X.shape[1] != self.final_X_cols_: X, _ = self.split_xy(X)\n",
        "    if isinstance(X, pd.DataFrame): X = X.reset_index(drop=True)\n",
        "    Xt = self.preprocessor.transform(X)\n",
        "    return self.estimator.decision_function(Xt)\n",
        "\n",
        "  @if_delegate_has_method(delegate='estimator')\n",
        "  def score(self, X, y=None, sample_weight=None):\n",
        "    if y is None: X, y = self.split_xy(X)\n",
        "    Xt = self.preprocessor.transform(X)\n",
        "    if isinstance(Xt, pd.DataFrame): Xt = Xt.reset_index(drop=True)\n",
        "    score_params = {}\n",
        "    if sample_weight is not None: score_params['sample_weight'] = sample_weight\n",
        "    return self.estimator.score(Xt, y, **score_params)\n",
        "  \n",
        "  @property\n",
        "  def transform(self):\n",
        "    if self.estimator is None: return self._transform\n",
        "    raise AttributeError('transform not available when there is an estimator')\n",
        "  def _transform(self, X):\n",
        "    if X.shape[1] != self.final_X_cols_: X, _ = self.split_xy(X)\n",
        "    return self.preprocessor.transform(X)\n",
        "  \n",
        "  @property\n",
        "  def fit_transform(self):\n",
        "    if self.estimator is None: return self._transform\n",
        "    raise AttributeError('fit_transform not available when there is an estimator')\n",
        "  def _fit_transform(self, X, y=None, **fit_params):\n",
        "    Xt, _, _ = self.__fit(X, y, **fit_params)\n",
        "    return Xt\n",
        "  \n",
        "  # The remaining methods are not part of the standard sklearn system\n",
        "  def split_xy(self, Xy):\n",
        "    \"\"\"\n",
        "    Splits the Xy dataset into X and y. Performs any training preprocessing but\n",
        "    not the full preprocessing (and no estimation).\n",
        "    \"\"\"\n",
        "    return self.__split(self.train_preprocessor.transform(Xy))\n",
        "\n",
        "  def transform_xy(self, Xy):\n",
        "    \"\"\"\n",
        "    Splits and transforms the Xy dataset. Returns the X and y split datasets.\n",
        "    Does not run estimation.\n",
        "    \"\"\"\n",
        "    Xt, y = self.split_xy(Xy)\n",
        "    return self.preprocessor.transform(Xt), y\n",
        "\n",
        "  def fit_transform_xy(self, X, y=None, **fit_params):\n",
        "    \"\"\"\n",
        "    Fits this model to the Xy dataset while the data is split and transformed.\n",
        "    Returns the X and y split datasets. The estimator is fit but does not effect\n",
        "    the return values.\n",
        "    \"\"\"\n",
        "    Xt, y, fit_params = self.__fit(X, y, **fit_params)\n",
        "    if self.estimator is not None:\n",
        "      if isinstance(Xt, pd.DataFrame): Xt = Xt.reset_index(drop=True)\n",
        "      self.estimator.fit(Xt, y, **fit_params)\n",
        "    return Xt, y\n"
      ],
      "execution_count": null,
      "outputs": []
    },
    {
      "cell_type": "code",
      "metadata": {
        "id": "XtlAIeoMniJ6",
        "colab_type": "code",
        "colab": {}
      },
      "source": [
        "def get_error(model, data, labels):\n",
        "  preds = model.predict(data)\n",
        "  rmse = np.sqrt(mean_squared_error(labels, preds))\n",
        "  scores = cross_val_score(model, data, labels, scoring=\"neg_mean_squared_error\", cv=10)\n",
        "  scores = np.sqrt(-scores)\n",
        "  return rmse, scores, scores.mean(), scores.std()\n",
        "\n",
        "#the first value is the rmse (low is good)\n",
        "#array is the scores from the cross val score\n",
        "#3rd value is the mean cross val scores\n",
        "#4th is the standard deviation of the scores (low means it is consistent)"
      ],
      "execution_count": null,
      "outputs": []
    },
    {
      "cell_type": "code",
      "metadata": {
        "id": "s3829D8VjYnf",
        "colab_type": "code",
        "colab": {}
      },
      "source": [
        "class RemoveBadData(BaseEstimator, TransformerMixin):\n",
        "  \"\"\"\n",
        "Removes specific colors from the data based on the names provided in the dont_use list, and removes colors with counts below n.\n",
        "  \"\"\"\n",
        "  def __init__(self):\n",
        "    super().__init__()\n",
        "  \n",
        "  def fit(self, X, y=None):\n",
        "    return self\n",
        "  \n",
        "  def transform(self, X, y=None):\n",
        "    return X\n",
        " "
      ],
      "execution_count": null,
      "outputs": []
    },
    {
      "cell_type": "code",
      "metadata": {
        "id": "t2NlIZ-auzMY",
        "colab_type": "code",
        "colab": {}
      },
      "source": [
        "def create_preprocessor():\n",
        "  num_attrs = ['gre',\t'toefl', 'university', 'sop', 'lor', 'gpa']\n",
        "\n",
        "  cat_attrs = ['research']\n",
        "  \n",
        "  num_trans = Pipeline(steps=[ \n",
        "    ('imputer', SimpleImputer(strategy='median')),\n",
        "    ('standarization', StandardScaler()),\n",
        "  ])\n",
        "    \n",
        "\n",
        "    \n",
        "  cat_trans = Pipeline(steps=[\n",
        "    ('onehot', OneHotEncoder(categories='auto')),\n",
        "  ])  \n",
        "  \n",
        "  preprocessor = ColumnTransformer(transformers=[\n",
        "    ('num', num_trans, num_attrs),\n",
        "    ('cat', cat_trans, cat_attrs)\n",
        "  ])\n",
        "  \n",
        "  return preprocessor"
      ],
      "execution_count": null,
      "outputs": []
    },
    {
      "cell_type": "code",
      "metadata": {
        "id": "URnSQ6kymiCF",
        "colab_type": "code",
        "colab": {}
      },
      "source": [
        "def split_labels(data, label_names):\n",
        "  \"\"\"\n",
        "  Splits the labels from the dataset, returning the datset without the labels\n",
        "  (X) and the labels (y)\n",
        "  \"\"\"\n",
        "  X = data.drop(label_names, axis=1)\n",
        "  y = data[label_names].copy()\n",
        "  return X, y"
      ],
      "execution_count": null,
      "outputs": []
    },
    {
      "cell_type": "markdown",
      "metadata": {
        "id": "fu_am3hvHwgo",
        "colab_type": "text"
      },
      "source": [
        "Get the Data\n",
        "========"
      ]
    },
    {
      "cell_type": "markdown",
      "metadata": {
        "id": "gaLnV4_I3bBF",
        "colab_type": "text"
      },
      "source": [
        "1.List the data you need and how much you need\n",
        "\n",
        "We need the admissions data with each level applicants have completed and we need as much as the company can provide. The set they have given us has 900 entries.\n",
        "\n",
        "2.Find and document where you can get that data\n",
        "\n",
        "This file we are importing and reading is the dataset we need, it has been supplied and collected by the consulting company\n",
        "\n",
        "3.Get access authorizations\n",
        "\n",
        "We have all authorizations needed.\n",
        "\n",
        "4.Create a workspace (with enough storage space)\n",
        "\n",
        "This document is the workspace\n",
        "\n",
        "5.Get the data"
      ]
    },
    {
      "cell_type": "markdown",
      "metadata": {
        "id": "v31wXQ6L5RBN",
        "colab_type": "text"
      },
      "source": [
        "6.Convert the data to a format you can easily manipulate (without changing the data itself)"
      ]
    },
    {
      "cell_type": "code",
      "metadata": {
        "id": "mhXX3xPXasI_",
        "colab_type": "code",
        "colab": {
          "base_uri": "https://localhost:8080/",
          "height": 238
        },
        "outputId": "0ebee507-3563-419a-d324-368c8288d86c"
      },
      "source": [
        "# Load the full dataset\n",
        "admissions_full = pd.read_csv('https://drive.google.com/uc?export=download&id=12UHYxG0qkqphzr81-xvkJ4Brf_bPTP0a')\n",
        "admissions_full.info()"
      ],
      "execution_count": null,
      "outputs": [
        {
          "output_type": "stream",
          "text": [
            "<class 'pandas.core.frame.DataFrame'>\n",
            "RangeIndex: 900 entries, 0 to 899\n",
            "Data columns (total 8 columns):\n",
            "gre              900 non-null int64\n",
            "toefl            579 non-null float64\n",
            "university       900 non-null int64\n",
            "sop              900 non-null float64\n",
            "lor              855 non-null float64\n",
            "gpa              900 non-null float64\n",
            "research         900 non-null object\n",
            "admit_chance     900 non-null float64\n",
            "dtypes: float64(5), int64(2), object(1)\n",
            "memory usage: 56.3+ KB\n"
          ],
          "name": "stdout"
        }
      ]
    },
    {
      "cell_type": "code",
      "metadata": {
        "id": "fNhOuRhukggC",
        "colab_type": "code",
        "colab": {}
      },
      "source": [
        "admissions_full['admit_chance'] = admissions_full['admit_chance ']\n",
        "admissions_full.drop(\"admit_chance \", axis=1, inplace=True)"
      ],
      "execution_count": null,
      "outputs": []
    },
    {
      "cell_type": "markdown",
      "metadata": {
        "id": "3xwm8OMClXqf",
        "colab_type": "text"
      },
      "source": [
        "For some reason in the original data set the label of the '`admit_chance`' attribute has a space after it so above I was  just correcting that typing mistake now to make the whole process a little more headache free. This is the only change that will be made to the full dataset at once"
      ]
    },
    {
      "cell_type": "code",
      "metadata": {
        "id": "VN2gQTor3WWJ",
        "colab_type": "code",
        "colab": {
          "base_uri": "https://localhost:8080/",
          "height": 1969
        },
        "outputId": "12aa22f2-e47b-4ef5-c181-18e413919c37"
      },
      "source": [
        "admissions_full"
      ],
      "execution_count": null,
      "outputs": [
        {
          "output_type": "execute_result",
          "data": {
            "text/html": [
              "<div>\n",
              "<style scoped>\n",
              "    .dataframe tbody tr th:only-of-type {\n",
              "        vertical-align: middle;\n",
              "    }\n",
              "\n",
              "    .dataframe tbody tr th {\n",
              "        vertical-align: top;\n",
              "    }\n",
              "\n",
              "    .dataframe thead th {\n",
              "        text-align: right;\n",
              "    }\n",
              "</style>\n",
              "<table border=\"1\" class=\"dataframe\">\n",
              "  <thead>\n",
              "    <tr style=\"text-align: right;\">\n",
              "      <th></th>\n",
              "      <th>gre</th>\n",
              "      <th>toefl</th>\n",
              "      <th>university</th>\n",
              "      <th>sop</th>\n",
              "      <th>lor</th>\n",
              "      <th>gpa</th>\n",
              "      <th>research</th>\n",
              "      <th>admit_chance</th>\n",
              "    </tr>\n",
              "  </thead>\n",
              "  <tbody>\n",
              "    <tr>\n",
              "      <th>0</th>\n",
              "      <td>340</td>\n",
              "      <td>NaN</td>\n",
              "      <td>4</td>\n",
              "      <td>4.5</td>\n",
              "      <td>4.0</td>\n",
              "      <td>3.97</td>\n",
              "      <td>yes</td>\n",
              "      <td>0.97</td>\n",
              "    </tr>\n",
              "    <tr>\n",
              "      <th>1</th>\n",
              "      <td>340</td>\n",
              "      <td>NaN</td>\n",
              "      <td>4</td>\n",
              "      <td>4.5</td>\n",
              "      <td>4.0</td>\n",
              "      <td>3.97</td>\n",
              "      <td>yes</td>\n",
              "      <td>0.97</td>\n",
              "    </tr>\n",
              "    <tr>\n",
              "      <th>2</th>\n",
              "      <td>340</td>\n",
              "      <td>120.0</td>\n",
              "      <td>5</td>\n",
              "      <td>4.5</td>\n",
              "      <td>4.5</td>\n",
              "      <td>3.96</td>\n",
              "      <td>yes</td>\n",
              "      <td>0.97</td>\n",
              "    </tr>\n",
              "    <tr>\n",
              "      <th>3</th>\n",
              "      <td>340</td>\n",
              "      <td>120.0</td>\n",
              "      <td>5</td>\n",
              "      <td>4.5</td>\n",
              "      <td>4.5</td>\n",
              "      <td>3.96</td>\n",
              "      <td>yes</td>\n",
              "      <td>0.97</td>\n",
              "    </tr>\n",
              "    <tr>\n",
              "      <th>4</th>\n",
              "      <td>334</td>\n",
              "      <td>120.0</td>\n",
              "      <td>5</td>\n",
              "      <td>4.0</td>\n",
              "      <td>5.0</td>\n",
              "      <td>3.95</td>\n",
              "      <td>yes</td>\n",
              "      <td>0.97</td>\n",
              "    </tr>\n",
              "    <tr>\n",
              "      <th>5</th>\n",
              "      <td>334</td>\n",
              "      <td>120.0</td>\n",
              "      <td>5</td>\n",
              "      <td>4.0</td>\n",
              "      <td>5.0</td>\n",
              "      <td>3.95</td>\n",
              "      <td>yes</td>\n",
              "      <td>0.97</td>\n",
              "    </tr>\n",
              "    <tr>\n",
              "      <th>6</th>\n",
              "      <td>336</td>\n",
              "      <td>NaN</td>\n",
              "      <td>5</td>\n",
              "      <td>4.0</td>\n",
              "      <td>3.5</td>\n",
              "      <td>3.92</td>\n",
              "      <td>yes</td>\n",
              "      <td>0.97</td>\n",
              "    </tr>\n",
              "    <tr>\n",
              "      <th>7</th>\n",
              "      <td>336</td>\n",
              "      <td>NaN</td>\n",
              "      <td>5</td>\n",
              "      <td>4.0</td>\n",
              "      <td>3.5</td>\n",
              "      <td>3.92</td>\n",
              "      <td>yes</td>\n",
              "      <td>0.97</td>\n",
              "    </tr>\n",
              "    <tr>\n",
              "      <th>8</th>\n",
              "      <td>337</td>\n",
              "      <td>117.0</td>\n",
              "      <td>5</td>\n",
              "      <td>5.0</td>\n",
              "      <td>5.0</td>\n",
              "      <td>3.95</td>\n",
              "      <td>yes</td>\n",
              "      <td>0.96</td>\n",
              "    </tr>\n",
              "    <tr>\n",
              "      <th>9</th>\n",
              "      <td>335</td>\n",
              "      <td>117.0</td>\n",
              "      <td>5</td>\n",
              "      <td>5.0</td>\n",
              "      <td>5.0</td>\n",
              "      <td>3.93</td>\n",
              "      <td>yes</td>\n",
              "      <td>0.96</td>\n",
              "    </tr>\n",
              "    <tr>\n",
              "      <th>10</th>\n",
              "      <td>335</td>\n",
              "      <td>117.0</td>\n",
              "      <td>5</td>\n",
              "      <td>5.0</td>\n",
              "      <td>5.0</td>\n",
              "      <td>3.93</td>\n",
              "      <td>yes</td>\n",
              "      <td>0.96</td>\n",
              "    </tr>\n",
              "    <tr>\n",
              "      <th>11</th>\n",
              "      <td>339</td>\n",
              "      <td>116.0</td>\n",
              "      <td>4</td>\n",
              "      <td>4.0</td>\n",
              "      <td>3.5</td>\n",
              "      <td>3.92</td>\n",
              "      <td>yes</td>\n",
              "      <td>0.96</td>\n",
              "    </tr>\n",
              "    <tr>\n",
              "      <th>12</th>\n",
              "      <td>339</td>\n",
              "      <td>NaN</td>\n",
              "      <td>4</td>\n",
              "      <td>4.0</td>\n",
              "      <td>3.5</td>\n",
              "      <td>3.92</td>\n",
              "      <td>yes</td>\n",
              "      <td>0.96</td>\n",
              "    </tr>\n",
              "    <tr>\n",
              "      <th>13</th>\n",
              "      <td>333</td>\n",
              "      <td>NaN</td>\n",
              "      <td>5</td>\n",
              "      <td>5.0</td>\n",
              "      <td>4.5</td>\n",
              "      <td>3.91</td>\n",
              "      <td>yes</td>\n",
              "      <td>0.96</td>\n",
              "    </tr>\n",
              "    <tr>\n",
              "      <th>14</th>\n",
              "      <td>333</td>\n",
              "      <td>119.0</td>\n",
              "      <td>5</td>\n",
              "      <td>5.0</td>\n",
              "      <td>4.5</td>\n",
              "      <td>3.91</td>\n",
              "      <td>yes</td>\n",
              "      <td>0.96</td>\n",
              "    </tr>\n",
              "    <tr>\n",
              "      <th>15</th>\n",
              "      <td>340</td>\n",
              "      <td>113.0</td>\n",
              "      <td>4</td>\n",
              "      <td>5.0</td>\n",
              "      <td>5.0</td>\n",
              "      <td>3.90</td>\n",
              "      <td>yes</td>\n",
              "      <td>0.96</td>\n",
              "    </tr>\n",
              "    <tr>\n",
              "      <th>16</th>\n",
              "      <td>340</td>\n",
              "      <td>113.0</td>\n",
              "      <td>4</td>\n",
              "      <td>5.0</td>\n",
              "      <td>5.0</td>\n",
              "      <td>3.90</td>\n",
              "      <td>yes</td>\n",
              "      <td>0.96</td>\n",
              "    </tr>\n",
              "    <tr>\n",
              "      <th>17</th>\n",
              "      <td>336</td>\n",
              "      <td>112.0</td>\n",
              "      <td>5</td>\n",
              "      <td>5.0</td>\n",
              "      <td>5.0</td>\n",
              "      <td>3.90</td>\n",
              "      <td>yes</td>\n",
              "      <td>0.96</td>\n",
              "    </tr>\n",
              "    <tr>\n",
              "      <th>18</th>\n",
              "      <td>336</td>\n",
              "      <td>NaN</td>\n",
              "      <td>5</td>\n",
              "      <td>5.0</td>\n",
              "      <td>5.0</td>\n",
              "      <td>3.90</td>\n",
              "      <td>yes</td>\n",
              "      <td>0.96</td>\n",
              "    </tr>\n",
              "    <tr>\n",
              "      <th>19</th>\n",
              "      <td>339</td>\n",
              "      <td>114.0</td>\n",
              "      <td>5</td>\n",
              "      <td>4.0</td>\n",
              "      <td>4.5</td>\n",
              "      <td>3.90</td>\n",
              "      <td>yes</td>\n",
              "      <td>0.96</td>\n",
              "    </tr>\n",
              "    <tr>\n",
              "      <th>20</th>\n",
              "      <td>339</td>\n",
              "      <td>114.0</td>\n",
              "      <td>5</td>\n",
              "      <td>4.0</td>\n",
              "      <td>4.5</td>\n",
              "      <td>3.90</td>\n",
              "      <td>yes</td>\n",
              "      <td>0.96</td>\n",
              "    </tr>\n",
              "    <tr>\n",
              "      <th>21</th>\n",
              "      <td>340</td>\n",
              "      <td>120.0</td>\n",
              "      <td>4</td>\n",
              "      <td>5.0</td>\n",
              "      <td>5.0</td>\n",
              "      <td>3.80</td>\n",
              "      <td>yes</td>\n",
              "      <td>0.96</td>\n",
              "    </tr>\n",
              "    <tr>\n",
              "      <th>22</th>\n",
              "      <td>340</td>\n",
              "      <td>120.0</td>\n",
              "      <td>4</td>\n",
              "      <td>5.0</td>\n",
              "      <td>5.0</td>\n",
              "      <td>3.80</td>\n",
              "      <td>yes</td>\n",
              "      <td>0.96</td>\n",
              "    </tr>\n",
              "    <tr>\n",
              "      <th>23</th>\n",
              "      <td>334</td>\n",
              "      <td>NaN</td>\n",
              "      <td>5</td>\n",
              "      <td>5.0</td>\n",
              "      <td>NaN</td>\n",
              "      <td>3.88</td>\n",
              "      <td>yes</td>\n",
              "      <td>0.95</td>\n",
              "    </tr>\n",
              "    <tr>\n",
              "      <th>24</th>\n",
              "      <td>334</td>\n",
              "      <td>119.0</td>\n",
              "      <td>5</td>\n",
              "      <td>5.0</td>\n",
              "      <td>4.5</td>\n",
              "      <td>3.88</td>\n",
              "      <td>yes</td>\n",
              "      <td>0.95</td>\n",
              "    </tr>\n",
              "    <tr>\n",
              "      <th>25</th>\n",
              "      <td>338</td>\n",
              "      <td>NaN</td>\n",
              "      <td>4</td>\n",
              "      <td>5.0</td>\n",
              "      <td>5.0</td>\n",
              "      <td>3.86</td>\n",
              "      <td>yes</td>\n",
              "      <td>0.95</td>\n",
              "    </tr>\n",
              "    <tr>\n",
              "      <th>26</th>\n",
              "      <td>333</td>\n",
              "      <td>117.0</td>\n",
              "      <td>4</td>\n",
              "      <td>5.0</td>\n",
              "      <td>4.0</td>\n",
              "      <td>3.86</td>\n",
              "      <td>yes</td>\n",
              "      <td>0.95</td>\n",
              "    </tr>\n",
              "    <tr>\n",
              "      <th>27</th>\n",
              "      <td>338</td>\n",
              "      <td>120.0</td>\n",
              "      <td>4</td>\n",
              "      <td>5.0</td>\n",
              "      <td>NaN</td>\n",
              "      <td>3.86</td>\n",
              "      <td>yes</td>\n",
              "      <td>0.95</td>\n",
              "    </tr>\n",
              "    <tr>\n",
              "      <th>28</th>\n",
              "      <td>333</td>\n",
              "      <td>117.0</td>\n",
              "      <td>4</td>\n",
              "      <td>5.0</td>\n",
              "      <td>4.0</td>\n",
              "      <td>3.86</td>\n",
              "      <td>yes</td>\n",
              "      <td>0.95</td>\n",
              "    </tr>\n",
              "    <tr>\n",
              "      <th>29</th>\n",
              "      <td>336</td>\n",
              "      <td>NaN</td>\n",
              "      <td>4</td>\n",
              "      <td>4.5</td>\n",
              "      <td>4.0</td>\n",
              "      <td>3.85</td>\n",
              "      <td>yes</td>\n",
              "      <td>0.95</td>\n",
              "    </tr>\n",
              "    <tr>\n",
              "      <th>...</th>\n",
              "      <td>...</td>\n",
              "      <td>...</td>\n",
              "      <td>...</td>\n",
              "      <td>...</td>\n",
              "      <td>...</td>\n",
              "      <td>...</td>\n",
              "      <td>...</td>\n",
              "      <td>...</td>\n",
              "    </tr>\n",
              "    <tr>\n",
              "      <th>870</th>\n",
              "      <td>301</td>\n",
              "      <td>97.0</td>\n",
              "      <td>2</td>\n",
              "      <td>3.0</td>\n",
              "      <td>3.0</td>\n",
              "      <td>3.15</td>\n",
              "      <td>yes</td>\n",
              "      <td>0.44</td>\n",
              "    </tr>\n",
              "    <tr>\n",
              "      <th>871</th>\n",
              "      <td>301</td>\n",
              "      <td>NaN</td>\n",
              "      <td>2</td>\n",
              "      <td>3.0</td>\n",
              "      <td>3.0</td>\n",
              "      <td>3.15</td>\n",
              "      <td>yes</td>\n",
              "      <td>0.44</td>\n",
              "    </tr>\n",
              "    <tr>\n",
              "      <th>872</th>\n",
              "      <td>296</td>\n",
              "      <td>NaN</td>\n",
              "      <td>2</td>\n",
              "      <td>3.0</td>\n",
              "      <td>2.0</td>\n",
              "      <td>3.02</td>\n",
              "      <td>yes</td>\n",
              "      <td>0.44</td>\n",
              "    </tr>\n",
              "    <tr>\n",
              "      <th>873</th>\n",
              "      <td>296</td>\n",
              "      <td>95.0</td>\n",
              "      <td>2</td>\n",
              "      <td>3.0</td>\n",
              "      <td>2.0</td>\n",
              "      <td>3.02</td>\n",
              "      <td>yes</td>\n",
              "      <td>0.44</td>\n",
              "    </tr>\n",
              "    <tr>\n",
              "      <th>874</th>\n",
              "      <td>298</td>\n",
              "      <td>98.0</td>\n",
              "      <td>2</td>\n",
              "      <td>1.5</td>\n",
              "      <td>2.5</td>\n",
              "      <td>3.00</td>\n",
              "      <td>yes</td>\n",
              "      <td>0.44</td>\n",
              "    </tr>\n",
              "    <tr>\n",
              "      <th>875</th>\n",
              "      <td>298</td>\n",
              "      <td>NaN</td>\n",
              "      <td>2</td>\n",
              "      <td>1.5</td>\n",
              "      <td>2.5</td>\n",
              "      <td>3.00</td>\n",
              "      <td>yes</td>\n",
              "      <td>0.44</td>\n",
              "    </tr>\n",
              "    <tr>\n",
              "      <th>876</th>\n",
              "      <td>297</td>\n",
              "      <td>NaN</td>\n",
              "      <td>2</td>\n",
              "      <td>2.5</td>\n",
              "      <td>1.5</td>\n",
              "      <td>3.16</td>\n",
              "      <td>no</td>\n",
              "      <td>0.43</td>\n",
              "    </tr>\n",
              "    <tr>\n",
              "      <th>877</th>\n",
              "      <td>297</td>\n",
              "      <td>NaN</td>\n",
              "      <td>2</td>\n",
              "      <td>2.5</td>\n",
              "      <td>1.5</td>\n",
              "      <td>3.16</td>\n",
              "      <td>no</td>\n",
              "      <td>0.43</td>\n",
              "    </tr>\n",
              "    <tr>\n",
              "      <th>878</th>\n",
              "      <td>311</td>\n",
              "      <td>104.0</td>\n",
              "      <td>2</td>\n",
              "      <td>2.0</td>\n",
              "      <td>2.0</td>\n",
              "      <td>3.32</td>\n",
              "      <td>no</td>\n",
              "      <td>0.42</td>\n",
              "    </tr>\n",
              "    <tr>\n",
              "      <th>879</th>\n",
              "      <td>311</td>\n",
              "      <td>104.0</td>\n",
              "      <td>2</td>\n",
              "      <td>2.0</td>\n",
              "      <td>2.0</td>\n",
              "      <td>3.32</td>\n",
              "      <td>no</td>\n",
              "      <td>0.42</td>\n",
              "    </tr>\n",
              "    <tr>\n",
              "      <th>880</th>\n",
              "      <td>304</td>\n",
              "      <td>100.0</td>\n",
              "      <td>4</td>\n",
              "      <td>1.5</td>\n",
              "      <td>2.5</td>\n",
              "      <td>3.14</td>\n",
              "      <td>no</td>\n",
              "      <td>0.42</td>\n",
              "    </tr>\n",
              "    <tr>\n",
              "      <th>881</th>\n",
              "      <td>304</td>\n",
              "      <td>100.0</td>\n",
              "      <td>4</td>\n",
              "      <td>1.5</td>\n",
              "      <td>2.5</td>\n",
              "      <td>3.14</td>\n",
              "      <td>no</td>\n",
              "      <td>0.42</td>\n",
              "    </tr>\n",
              "    <tr>\n",
              "      <th>882</th>\n",
              "      <td>299</td>\n",
              "      <td>100.0</td>\n",
              "      <td>3</td>\n",
              "      <td>2.0</td>\n",
              "      <td>3.0</td>\n",
              "      <td>2.97</td>\n",
              "      <td>no</td>\n",
              "      <td>0.42</td>\n",
              "    </tr>\n",
              "    <tr>\n",
              "      <th>883</th>\n",
              "      <td>299</td>\n",
              "      <td>NaN</td>\n",
              "      <td>1</td>\n",
              "      <td>1.0</td>\n",
              "      <td>1.0</td>\n",
              "      <td>2.94</td>\n",
              "      <td>no</td>\n",
              "      <td>0.42</td>\n",
              "    </tr>\n",
              "    <tr>\n",
              "      <th>884</th>\n",
              "      <td>299</td>\n",
              "      <td>94.0</td>\n",
              "      <td>1</td>\n",
              "      <td>1.0</td>\n",
              "      <td>1.0</td>\n",
              "      <td>2.94</td>\n",
              "      <td>no</td>\n",
              "      <td>0.42</td>\n",
              "    </tr>\n",
              "    <tr>\n",
              "      <th>885</th>\n",
              "      <td>315</td>\n",
              "      <td>105.0</td>\n",
              "      <td>2</td>\n",
              "      <td>2.0</td>\n",
              "      <td>2.5</td>\n",
              "      <td>3.06</td>\n",
              "      <td>no</td>\n",
              "      <td>0.39</td>\n",
              "    </tr>\n",
              "    <tr>\n",
              "      <th>886</th>\n",
              "      <td>315</td>\n",
              "      <td>105.0</td>\n",
              "      <td>2</td>\n",
              "      <td>2.0</td>\n",
              "      <td>2.5</td>\n",
              "      <td>3.06</td>\n",
              "      <td>no</td>\n",
              "      <td>0.39</td>\n",
              "    </tr>\n",
              "    <tr>\n",
              "      <th>887</th>\n",
              "      <td>304</td>\n",
              "      <td>101.0</td>\n",
              "      <td>2</td>\n",
              "      <td>2.0</td>\n",
              "      <td>2.5</td>\n",
              "      <td>3.06</td>\n",
              "      <td>no</td>\n",
              "      <td>0.38</td>\n",
              "    </tr>\n",
              "    <tr>\n",
              "      <th>888</th>\n",
              "      <td>304</td>\n",
              "      <td>101.0</td>\n",
              "      <td>2</td>\n",
              "      <td>2.0</td>\n",
              "      <td>2.5</td>\n",
              "      <td>3.06</td>\n",
              "      <td>no</td>\n",
              "      <td>0.38</td>\n",
              "    </tr>\n",
              "    <tr>\n",
              "      <th>889</th>\n",
              "      <td>299</td>\n",
              "      <td>97.0</td>\n",
              "      <td>3</td>\n",
              "      <td>5.0</td>\n",
              "      <td>3.5</td>\n",
              "      <td>3.06</td>\n",
              "      <td>no</td>\n",
              "      <td>0.38</td>\n",
              "    </tr>\n",
              "    <tr>\n",
              "      <th>890</th>\n",
              "      <td>299</td>\n",
              "      <td>97.0</td>\n",
              "      <td>3</td>\n",
              "      <td>5.0</td>\n",
              "      <td>3.5</td>\n",
              "      <td>3.06</td>\n",
              "      <td>no</td>\n",
              "      <td>0.38</td>\n",
              "    </tr>\n",
              "    <tr>\n",
              "      <th>891</th>\n",
              "      <td>295</td>\n",
              "      <td>99.0</td>\n",
              "      <td>1</td>\n",
              "      <td>2.0</td>\n",
              "      <td>1.5</td>\n",
              "      <td>3.03</td>\n",
              "      <td>no</td>\n",
              "      <td>0.37</td>\n",
              "    </tr>\n",
              "    <tr>\n",
              "      <th>892</th>\n",
              "      <td>303</td>\n",
              "      <td>NaN</td>\n",
              "      <td>3</td>\n",
              "      <td>2.0</td>\n",
              "      <td>2.5</td>\n",
              "      <td>3.06</td>\n",
              "      <td>no</td>\n",
              "      <td>0.36</td>\n",
              "    </tr>\n",
              "    <tr>\n",
              "      <th>893</th>\n",
              "      <td>303</td>\n",
              "      <td>99.0</td>\n",
              "      <td>3</td>\n",
              "      <td>2.0</td>\n",
              "      <td>2.5</td>\n",
              "      <td>3.06</td>\n",
              "      <td>no</td>\n",
              "      <td>0.36</td>\n",
              "    </tr>\n",
              "    <tr>\n",
              "      <th>894</th>\n",
              "      <td>300</td>\n",
              "      <td>99.0</td>\n",
              "      <td>1</td>\n",
              "      <td>3.0</td>\n",
              "      <td>2.0</td>\n",
              "      <td>2.72</td>\n",
              "      <td>yes</td>\n",
              "      <td>0.36</td>\n",
              "    </tr>\n",
              "    <tr>\n",
              "      <th>895</th>\n",
              "      <td>300</td>\n",
              "      <td>99.0</td>\n",
              "      <td>1</td>\n",
              "      <td>3.0</td>\n",
              "      <td>2.0</td>\n",
              "      <td>2.72</td>\n",
              "      <td>yes</td>\n",
              "      <td>0.36</td>\n",
              "    </tr>\n",
              "    <tr>\n",
              "      <th>896</th>\n",
              "      <td>298</td>\n",
              "      <td>NaN</td>\n",
              "      <td>2</td>\n",
              "      <td>4.0</td>\n",
              "      <td>3.0</td>\n",
              "      <td>3.21</td>\n",
              "      <td>no</td>\n",
              "      <td>0.34</td>\n",
              "    </tr>\n",
              "    <tr>\n",
              "      <th>897</th>\n",
              "      <td>298</td>\n",
              "      <td>98.0</td>\n",
              "      <td>2</td>\n",
              "      <td>4.0</td>\n",
              "      <td>3.0</td>\n",
              "      <td>3.21</td>\n",
              "      <td>no</td>\n",
              "      <td>0.34</td>\n",
              "    </tr>\n",
              "    <tr>\n",
              "      <th>898</th>\n",
              "      <td>297</td>\n",
              "      <td>NaN</td>\n",
              "      <td>2</td>\n",
              "      <td>2.5</td>\n",
              "      <td>NaN</td>\n",
              "      <td>2.97</td>\n",
              "      <td>no</td>\n",
              "      <td>0.34</td>\n",
              "    </tr>\n",
              "    <tr>\n",
              "      <th>899</th>\n",
              "      <td>297</td>\n",
              "      <td>NaN</td>\n",
              "      <td>2</td>\n",
              "      <td>2.5</td>\n",
              "      <td>2.0</td>\n",
              "      <td>2.97</td>\n",
              "      <td>no</td>\n",
              "      <td>0.34</td>\n",
              "    </tr>\n",
              "  </tbody>\n",
              "</table>\n",
              "<p>900 rows × 8 columns</p>\n",
              "</div>"
            ],
            "text/plain": [
              "     gre  toefl  university  sop  lor   gpa research  admit_chance\n",
              "0    340    NaN           4  4.5  4.0  3.97      yes          0.97\n",
              "1    340    NaN           4  4.5  4.0  3.97      yes          0.97\n",
              "2    340  120.0           5  4.5  4.5  3.96      yes          0.97\n",
              "3    340  120.0           5  4.5  4.5  3.96      yes          0.97\n",
              "4    334  120.0           5  4.0  5.0  3.95      yes          0.97\n",
              "5    334  120.0           5  4.0  5.0  3.95      yes          0.97\n",
              "6    336    NaN           5  4.0  3.5  3.92      yes          0.97\n",
              "7    336    NaN           5  4.0  3.5  3.92      yes          0.97\n",
              "8    337  117.0           5  5.0  5.0  3.95      yes          0.96\n",
              "9    335  117.0           5  5.0  5.0  3.93      yes          0.96\n",
              "10   335  117.0           5  5.0  5.0  3.93      yes          0.96\n",
              "11   339  116.0           4  4.0  3.5  3.92      yes          0.96\n",
              "12   339    NaN           4  4.0  3.5  3.92      yes          0.96\n",
              "13   333    NaN           5  5.0  4.5  3.91      yes          0.96\n",
              "14   333  119.0           5  5.0  4.5  3.91      yes          0.96\n",
              "15   340  113.0           4  5.0  5.0  3.90      yes          0.96\n",
              "16   340  113.0           4  5.0  5.0  3.90      yes          0.96\n",
              "17   336  112.0           5  5.0  5.0  3.90      yes          0.96\n",
              "18   336    NaN           5  5.0  5.0  3.90      yes          0.96\n",
              "19   339  114.0           5  4.0  4.5  3.90      yes          0.96\n",
              "20   339  114.0           5  4.0  4.5  3.90      yes          0.96\n",
              "21   340  120.0           4  5.0  5.0  3.80      yes          0.96\n",
              "22   340  120.0           4  5.0  5.0  3.80      yes          0.96\n",
              "23   334    NaN           5  5.0  NaN  3.88      yes          0.95\n",
              "24   334  119.0           5  5.0  4.5  3.88      yes          0.95\n",
              "25   338    NaN           4  5.0  5.0  3.86      yes          0.95\n",
              "26   333  117.0           4  5.0  4.0  3.86      yes          0.95\n",
              "27   338  120.0           4  5.0  NaN  3.86      yes          0.95\n",
              "28   333  117.0           4  5.0  4.0  3.86      yes          0.95\n",
              "29   336    NaN           4  4.5  4.0  3.85      yes          0.95\n",
              "..   ...    ...         ...  ...  ...   ...      ...           ...\n",
              "870  301   97.0           2  3.0  3.0  3.15      yes          0.44\n",
              "871  301    NaN           2  3.0  3.0  3.15      yes          0.44\n",
              "872  296    NaN           2  3.0  2.0  3.02      yes          0.44\n",
              "873  296   95.0           2  3.0  2.0  3.02      yes          0.44\n",
              "874  298   98.0           2  1.5  2.5  3.00      yes          0.44\n",
              "875  298    NaN           2  1.5  2.5  3.00      yes          0.44\n",
              "876  297    NaN           2  2.5  1.5  3.16       no          0.43\n",
              "877  297    NaN           2  2.5  1.5  3.16       no          0.43\n",
              "878  311  104.0           2  2.0  2.0  3.32       no          0.42\n",
              "879  311  104.0           2  2.0  2.0  3.32       no          0.42\n",
              "880  304  100.0           4  1.5  2.5  3.14       no          0.42\n",
              "881  304  100.0           4  1.5  2.5  3.14       no          0.42\n",
              "882  299  100.0           3  2.0  3.0  2.97       no          0.42\n",
              "883  299    NaN           1  1.0  1.0  2.94       no          0.42\n",
              "884  299   94.0           1  1.0  1.0  2.94       no          0.42\n",
              "885  315  105.0           2  2.0  2.5  3.06       no          0.39\n",
              "886  315  105.0           2  2.0  2.5  3.06       no          0.39\n",
              "887  304  101.0           2  2.0  2.5  3.06       no          0.38\n",
              "888  304  101.0           2  2.0  2.5  3.06       no          0.38\n",
              "889  299   97.0           3  5.0  3.5  3.06       no          0.38\n",
              "890  299   97.0           3  5.0  3.5  3.06       no          0.38\n",
              "891  295   99.0           1  2.0  1.5  3.03       no          0.37\n",
              "892  303    NaN           3  2.0  2.5  3.06       no          0.36\n",
              "893  303   99.0           3  2.0  2.5  3.06       no          0.36\n",
              "894  300   99.0           1  3.0  2.0  2.72      yes          0.36\n",
              "895  300   99.0           1  3.0  2.0  2.72      yes          0.36\n",
              "896  298    NaN           2  4.0  3.0  3.21       no          0.34\n",
              "897  298   98.0           2  4.0  3.0  3.21       no          0.34\n",
              "898  297    NaN           2  2.5  NaN  2.97       no          0.34\n",
              "899  297    NaN           2  2.5  2.0  2.97       no          0.34\n",
              "\n",
              "[900 rows x 8 columns]"
            ]
          },
          "metadata": {
            "tags": []
          },
          "execution_count": 5
        }
      ]
    },
    {
      "cell_type": "markdown",
      "metadata": {
        "id": "iBmSdaI05W_k",
        "colab_type": "text"
      },
      "source": [
        "7.Ensure sensitive information is deleted or protected (e.g. anonymized)\n",
        "\n",
        "All of the sensitive information (names) have been removed from the data.\n",
        "\n",
        ".\n",
        "\n",
        "8.Check the size and type of data (time series, sample, geographical, ...)"
      ]
    },
    {
      "cell_type": "code",
      "metadata": {
        "id": "dHPbWWEq3R9A",
        "colab_type": "code",
        "colab": {
          "base_uri": "https://localhost:8080/",
          "height": 359
        },
        "outputId": "b0b85630-91d3-454c-dff5-1ae4776b64af"
      },
      "source": [
        "admissions_full[:10]"
      ],
      "execution_count": null,
      "outputs": [
        {
          "output_type": "execute_result",
          "data": {
            "text/html": [
              "<div>\n",
              "<style scoped>\n",
              "    .dataframe tbody tr th:only-of-type {\n",
              "        vertical-align: middle;\n",
              "    }\n",
              "\n",
              "    .dataframe tbody tr th {\n",
              "        vertical-align: top;\n",
              "    }\n",
              "\n",
              "    .dataframe thead th {\n",
              "        text-align: right;\n",
              "    }\n",
              "</style>\n",
              "<table border=\"1\" class=\"dataframe\">\n",
              "  <thead>\n",
              "    <tr style=\"text-align: right;\">\n",
              "      <th></th>\n",
              "      <th>gre</th>\n",
              "      <th>toefl</th>\n",
              "      <th>university</th>\n",
              "      <th>sop</th>\n",
              "      <th>lor</th>\n",
              "      <th>gpa</th>\n",
              "      <th>research</th>\n",
              "      <th>admit_chance</th>\n",
              "    </tr>\n",
              "  </thead>\n",
              "  <tbody>\n",
              "    <tr>\n",
              "      <th>0</th>\n",
              "      <td>340</td>\n",
              "      <td>NaN</td>\n",
              "      <td>4</td>\n",
              "      <td>4.5</td>\n",
              "      <td>4.0</td>\n",
              "      <td>3.97</td>\n",
              "      <td>yes</td>\n",
              "      <td>0.97</td>\n",
              "    </tr>\n",
              "    <tr>\n",
              "      <th>1</th>\n",
              "      <td>340</td>\n",
              "      <td>NaN</td>\n",
              "      <td>4</td>\n",
              "      <td>4.5</td>\n",
              "      <td>4.0</td>\n",
              "      <td>3.97</td>\n",
              "      <td>yes</td>\n",
              "      <td>0.97</td>\n",
              "    </tr>\n",
              "    <tr>\n",
              "      <th>2</th>\n",
              "      <td>340</td>\n",
              "      <td>120.0</td>\n",
              "      <td>5</td>\n",
              "      <td>4.5</td>\n",
              "      <td>4.5</td>\n",
              "      <td>3.96</td>\n",
              "      <td>yes</td>\n",
              "      <td>0.97</td>\n",
              "    </tr>\n",
              "    <tr>\n",
              "      <th>3</th>\n",
              "      <td>340</td>\n",
              "      <td>120.0</td>\n",
              "      <td>5</td>\n",
              "      <td>4.5</td>\n",
              "      <td>4.5</td>\n",
              "      <td>3.96</td>\n",
              "      <td>yes</td>\n",
              "      <td>0.97</td>\n",
              "    </tr>\n",
              "    <tr>\n",
              "      <th>4</th>\n",
              "      <td>334</td>\n",
              "      <td>120.0</td>\n",
              "      <td>5</td>\n",
              "      <td>4.0</td>\n",
              "      <td>5.0</td>\n",
              "      <td>3.95</td>\n",
              "      <td>yes</td>\n",
              "      <td>0.97</td>\n",
              "    </tr>\n",
              "    <tr>\n",
              "      <th>5</th>\n",
              "      <td>334</td>\n",
              "      <td>120.0</td>\n",
              "      <td>5</td>\n",
              "      <td>4.0</td>\n",
              "      <td>5.0</td>\n",
              "      <td>3.95</td>\n",
              "      <td>yes</td>\n",
              "      <td>0.97</td>\n",
              "    </tr>\n",
              "    <tr>\n",
              "      <th>6</th>\n",
              "      <td>336</td>\n",
              "      <td>NaN</td>\n",
              "      <td>5</td>\n",
              "      <td>4.0</td>\n",
              "      <td>3.5</td>\n",
              "      <td>3.92</td>\n",
              "      <td>yes</td>\n",
              "      <td>0.97</td>\n",
              "    </tr>\n",
              "    <tr>\n",
              "      <th>7</th>\n",
              "      <td>336</td>\n",
              "      <td>NaN</td>\n",
              "      <td>5</td>\n",
              "      <td>4.0</td>\n",
              "      <td>3.5</td>\n",
              "      <td>3.92</td>\n",
              "      <td>yes</td>\n",
              "      <td>0.97</td>\n",
              "    </tr>\n",
              "    <tr>\n",
              "      <th>8</th>\n",
              "      <td>337</td>\n",
              "      <td>117.0</td>\n",
              "      <td>5</td>\n",
              "      <td>5.0</td>\n",
              "      <td>5.0</td>\n",
              "      <td>3.95</td>\n",
              "      <td>yes</td>\n",
              "      <td>0.96</td>\n",
              "    </tr>\n",
              "    <tr>\n",
              "      <th>9</th>\n",
              "      <td>335</td>\n",
              "      <td>117.0</td>\n",
              "      <td>5</td>\n",
              "      <td>5.0</td>\n",
              "      <td>5.0</td>\n",
              "      <td>3.93</td>\n",
              "      <td>yes</td>\n",
              "      <td>0.96</td>\n",
              "    </tr>\n",
              "  </tbody>\n",
              "</table>\n",
              "</div>"
            ],
            "text/plain": [
              "   gre  toefl  university  sop  lor   gpa research  admit_chance\n",
              "0  340    NaN           4  4.5  4.0  3.97      yes          0.97\n",
              "1  340    NaN           4  4.5  4.0  3.97      yes          0.97\n",
              "2  340  120.0           5  4.5  4.5  3.96      yes          0.97\n",
              "3  340  120.0           5  4.5  4.5  3.96      yes          0.97\n",
              "4  334  120.0           5  4.0  5.0  3.95      yes          0.97\n",
              "5  334  120.0           5  4.0  5.0  3.95      yes          0.97\n",
              "6  336    NaN           5  4.0  3.5  3.92      yes          0.97\n",
              "7  336    NaN           5  4.0  3.5  3.92      yes          0.97\n",
              "8  337  117.0           5  5.0  5.0  3.95      yes          0.96\n",
              "9  335  117.0           5  5.0  5.0  3.93      yes          0.96"
            ]
          },
          "metadata": {
            "tags": []
          },
          "execution_count": 6
        }
      ]
    },
    {
      "cell_type": "code",
      "metadata": {
        "id": "XRj62jO27L-c",
        "colab_type": "code",
        "colab": {
          "base_uri": "https://localhost:8080/",
          "height": 297
        },
        "outputId": "5016a4b3-64c3-4de1-819e-7ac1a5961afe"
      },
      "source": [
        "admissions_full.describe()"
      ],
      "execution_count": null,
      "outputs": [
        {
          "output_type": "execute_result",
          "data": {
            "text/html": [
              "<div>\n",
              "<style scoped>\n",
              "    .dataframe tbody tr th:only-of-type {\n",
              "        vertical-align: middle;\n",
              "    }\n",
              "\n",
              "    .dataframe tbody tr th {\n",
              "        vertical-align: top;\n",
              "    }\n",
              "\n",
              "    .dataframe thead th {\n",
              "        text-align: right;\n",
              "    }\n",
              "</style>\n",
              "<table border=\"1\" class=\"dataframe\">\n",
              "  <thead>\n",
              "    <tr style=\"text-align: right;\">\n",
              "      <th></th>\n",
              "      <th>gre</th>\n",
              "      <th>toefl</th>\n",
              "      <th>university</th>\n",
              "      <th>sop</th>\n",
              "      <th>lor</th>\n",
              "      <th>gpa</th>\n",
              "      <th>admit_chance</th>\n",
              "    </tr>\n",
              "  </thead>\n",
              "  <tbody>\n",
              "    <tr>\n",
              "      <th>count</th>\n",
              "      <td>900.000000</td>\n",
              "      <td>579.000000</td>\n",
              "      <td>900.000000</td>\n",
              "      <td>900.000000</td>\n",
              "      <td>855.000000</td>\n",
              "      <td>900.000000</td>\n",
              "      <td>900.000000</td>\n",
              "    </tr>\n",
              "    <tr>\n",
              "      <th>mean</th>\n",
              "      <td>316.621111</td>\n",
              "      <td>106.981002</td>\n",
              "      <td>3.102222</td>\n",
              "      <td>3.385556</td>\n",
              "      <td>3.465497</td>\n",
              "      <td>3.434522</td>\n",
              "      <td>0.722900</td>\n",
              "    </tr>\n",
              "    <tr>\n",
              "      <th>std</th>\n",
              "      <td>11.369700</td>\n",
              "      <td>6.077184</td>\n",
              "      <td>1.143048</td>\n",
              "      <td>0.997612</td>\n",
              "      <td>0.907768</td>\n",
              "      <td>0.240252</td>\n",
              "      <td>0.141722</td>\n",
              "    </tr>\n",
              "    <tr>\n",
              "      <th>min</th>\n",
              "      <td>290.000000</td>\n",
              "      <td>92.000000</td>\n",
              "      <td>1.000000</td>\n",
              "      <td>1.000000</td>\n",
              "      <td>1.000000</td>\n",
              "      <td>2.720000</td>\n",
              "      <td>0.340000</td>\n",
              "    </tr>\n",
              "    <tr>\n",
              "      <th>25%</th>\n",
              "      <td>308.000000</td>\n",
              "      <td>102.000000</td>\n",
              "      <td>2.000000</td>\n",
              "      <td>2.500000</td>\n",
              "      <td>3.000000</td>\n",
              "      <td>3.260000</td>\n",
              "      <td>0.640000</td>\n",
              "    </tr>\n",
              "    <tr>\n",
              "      <th>50%</th>\n",
              "      <td>317.000000</td>\n",
              "      <td>107.000000</td>\n",
              "      <td>3.000000</td>\n",
              "      <td>3.500000</td>\n",
              "      <td>3.500000</td>\n",
              "      <td>3.430000</td>\n",
              "      <td>0.730000</td>\n",
              "    </tr>\n",
              "    <tr>\n",
              "      <th>75%</th>\n",
              "      <td>325.000000</td>\n",
              "      <td>111.000000</td>\n",
              "      <td>4.000000</td>\n",
              "      <td>4.000000</td>\n",
              "      <td>4.000000</td>\n",
              "      <td>3.620000</td>\n",
              "      <td>0.822500</td>\n",
              "    </tr>\n",
              "    <tr>\n",
              "      <th>max</th>\n",
              "      <td>340.000000</td>\n",
              "      <td>120.000000</td>\n",
              "      <td>5.000000</td>\n",
              "      <td>5.000000</td>\n",
              "      <td>5.000000</td>\n",
              "      <td>3.970000</td>\n",
              "      <td>0.970000</td>\n",
              "    </tr>\n",
              "  </tbody>\n",
              "</table>\n",
              "</div>"
            ],
            "text/plain": [
              "              gre       toefl  university         sop         lor         gpa  \\\n",
              "count  900.000000  579.000000  900.000000  900.000000  855.000000  900.000000   \n",
              "mean   316.621111  106.981002    3.102222    3.385556    3.465497    3.434522   \n",
              "std     11.369700    6.077184    1.143048    0.997612    0.907768    0.240252   \n",
              "min    290.000000   92.000000    1.000000    1.000000    1.000000    2.720000   \n",
              "25%    308.000000  102.000000    2.000000    2.500000    3.000000    3.260000   \n",
              "50%    317.000000  107.000000    3.000000    3.500000    3.500000    3.430000   \n",
              "75%    325.000000  111.000000    4.000000    4.000000    4.000000    3.620000   \n",
              "max    340.000000  120.000000    5.000000    5.000000    5.000000    3.970000   \n",
              "\n",
              "       admit_chance  \n",
              "count    900.000000  \n",
              "mean       0.722900  \n",
              "std        0.141722  \n",
              "min        0.340000  \n",
              "25%        0.640000  \n",
              "50%        0.730000  \n",
              "75%        0.822500  \n",
              "max        0.970000  "
            ]
          },
          "metadata": {
            "tags": []
          },
          "execution_count": 7
        }
      ]
    },
    {
      "cell_type": "markdown",
      "metadata": {
        "id": "vH7VGklR5qG_",
        "colab_type": "text"
      },
      "source": [
        "There are 900 samples in this dataset, 7 attributes + the target attribute. gre attribute is the applicant's score on the gre test, these can be integers from 260 - 340, and NaN if they did not take it (very unlikely to have not taken it). The toefl attribute is the applicant's score on the toefl (Test of English as a Foreign Language). These can range from 0 - 120 and is a NaN if they did not take the test (likely to have many of these). sop is the strength of the applicant's statement of purpose on a range from 1 - 5.  lor is the letter of recommendation, which is a number from 1 - 5. gpa is the applicant's grade point average, and this is on a scale from 0 - 4. Lastly admit_chance is the percentage chance the applicant has at entering graduate school."
      ]
    },
    {
      "cell_type": "markdown",
      "metadata": {
        "id": "1AR0g0tBIAWl",
        "colab_type": "text"
      },
      "source": [
        "\n",
        "\n",
        "\n",
        "9.Sample a test set, put it aside, and never lookat it (no data snooping!)"
      ]
    },
    {
      "cell_type": "markdown",
      "metadata": {
        "id": "y65JnMwN8vZk",
        "colab_type": "text"
      },
      "source": [
        "All of the data is sorted in descending order of admit_chance so it may be beneficial to shuffle the data before working with it further."
      ]
    },
    {
      "cell_type": "code",
      "metadata": {
        "id": "9aAnsahq7wJ_",
        "colab_type": "code",
        "colab": {}
      },
      "source": [
        "#Shuffling the data\n",
        "admissions_full_shuffled = admissions_full.sample(frac=1)"
      ],
      "execution_count": null,
      "outputs": []
    },
    {
      "cell_type": "code",
      "metadata": {
        "id": "KG_PAFF59DjZ",
        "colab_type": "code",
        "colab": {
          "base_uri": "https://localhost:8080/",
          "height": 359
        },
        "outputId": "23aa7add-f578-4357-e5a8-e27789f978b7"
      },
      "source": [
        "#verifying that the data was shuffled.\n",
        "admissions_full_shuffled[:10]"
      ],
      "execution_count": null,
      "outputs": [
        {
          "output_type": "execute_result",
          "data": {
            "text/html": [
              "<div>\n",
              "<style scoped>\n",
              "    .dataframe tbody tr th:only-of-type {\n",
              "        vertical-align: middle;\n",
              "    }\n",
              "\n",
              "    .dataframe tbody tr th {\n",
              "        vertical-align: top;\n",
              "    }\n",
              "\n",
              "    .dataframe thead th {\n",
              "        text-align: right;\n",
              "    }\n",
              "</style>\n",
              "<table border=\"1\" class=\"dataframe\">\n",
              "  <thead>\n",
              "    <tr style=\"text-align: right;\">\n",
              "      <th></th>\n",
              "      <th>gre</th>\n",
              "      <th>toefl</th>\n",
              "      <th>university</th>\n",
              "      <th>sop</th>\n",
              "      <th>lor</th>\n",
              "      <th>gpa</th>\n",
              "      <th>research</th>\n",
              "      <th>admit_chance</th>\n",
              "    </tr>\n",
              "  </thead>\n",
              "  <tbody>\n",
              "    <tr>\n",
              "      <th>135</th>\n",
              "      <td>324</td>\n",
              "      <td>110.0</td>\n",
              "      <td>3</td>\n",
              "      <td>3.5</td>\n",
              "      <td>3.0</td>\n",
              "      <td>3.69</td>\n",
              "      <td>yes</td>\n",
              "      <td>0.89</td>\n",
              "    </tr>\n",
              "    <tr>\n",
              "      <th>519</th>\n",
              "      <td>312</td>\n",
              "      <td>104.0</td>\n",
              "      <td>3</td>\n",
              "      <td>3.5</td>\n",
              "      <td>4.0</td>\n",
              "      <td>3.24</td>\n",
              "      <td>no</td>\n",
              "      <td>0.71</td>\n",
              "    </tr>\n",
              "    <tr>\n",
              "      <th>401</th>\n",
              "      <td>314</td>\n",
              "      <td>NaN</td>\n",
              "      <td>3</td>\n",
              "      <td>3.0</td>\n",
              "      <td>5.0</td>\n",
              "      <td>3.56</td>\n",
              "      <td>no</td>\n",
              "      <td>0.74</td>\n",
              "    </tr>\n",
              "    <tr>\n",
              "      <th>222</th>\n",
              "      <td>325</td>\n",
              "      <td>NaN</td>\n",
              "      <td>4</td>\n",
              "      <td>4.0</td>\n",
              "      <td>4.5</td>\n",
              "      <td>3.64</td>\n",
              "      <td>yes</td>\n",
              "      <td>0.83</td>\n",
              "    </tr>\n",
              "    <tr>\n",
              "      <th>142</th>\n",
              "      <td>327</td>\n",
              "      <td>NaN</td>\n",
              "      <td>4</td>\n",
              "      <td>4.5</td>\n",
              "      <td>4.5</td>\n",
              "      <td>3.64</td>\n",
              "      <td>yes</td>\n",
              "      <td>0.89</td>\n",
              "    </tr>\n",
              "    <tr>\n",
              "      <th>323</th>\n",
              "      <td>322</td>\n",
              "      <td>NaN</td>\n",
              "      <td>3</td>\n",
              "      <td>3.5</td>\n",
              "      <td>3.0</td>\n",
              "      <td>3.58</td>\n",
              "      <td>yes</td>\n",
              "      <td>0.78</td>\n",
              "    </tr>\n",
              "    <tr>\n",
              "      <th>51</th>\n",
              "      <td>340</td>\n",
              "      <td>115.0</td>\n",
              "      <td>5</td>\n",
              "      <td>4.5</td>\n",
              "      <td>4.5</td>\n",
              "      <td>3.78</td>\n",
              "      <td>yes</td>\n",
              "      <td>0.94</td>\n",
              "    </tr>\n",
              "    <tr>\n",
              "      <th>500</th>\n",
              "      <td>318</td>\n",
              "      <td>NaN</td>\n",
              "      <td>2</td>\n",
              "      <td>2.5</td>\n",
              "      <td>3.5</td>\n",
              "      <td>3.42</td>\n",
              "      <td>yes</td>\n",
              "      <td>0.71</td>\n",
              "    </tr>\n",
              "    <tr>\n",
              "      <th>209</th>\n",
              "      <td>327</td>\n",
              "      <td>113.0</td>\n",
              "      <td>4</td>\n",
              "      <td>4.5</td>\n",
              "      <td>4.5</td>\n",
              "      <td>3.62</td>\n",
              "      <td>no</td>\n",
              "      <td>0.84</td>\n",
              "    </tr>\n",
              "    <tr>\n",
              "      <th>314</th>\n",
              "      <td>318</td>\n",
              "      <td>NaN</td>\n",
              "      <td>1</td>\n",
              "      <td>3.5</td>\n",
              "      <td>3.5</td>\n",
              "      <td>3.65</td>\n",
              "      <td>no</td>\n",
              "      <td>0.78</td>\n",
              "    </tr>\n",
              "  </tbody>\n",
              "</table>\n",
              "</div>"
            ],
            "text/plain": [
              "     gre  toefl  university  sop  lor   gpa research  admit_chance\n",
              "135  324  110.0           3  3.5  3.0  3.69      yes          0.89\n",
              "519  312  104.0           3  3.5  4.0  3.24       no          0.71\n",
              "401  314    NaN           3  3.0  5.0  3.56       no          0.74\n",
              "222  325    NaN           4  4.0  4.5  3.64      yes          0.83\n",
              "142  327    NaN           4  4.5  4.5  3.64      yes          0.89\n",
              "323  322    NaN           3  3.5  3.0  3.58      yes          0.78\n",
              "51   340  115.0           5  4.5  4.5  3.78      yes          0.94\n",
              "500  318    NaN           2  2.5  3.5  3.42      yes          0.71\n",
              "209  327  113.0           4  4.5  4.5  3.62       no          0.84\n",
              "314  318    NaN           1  3.5  3.5  3.65       no          0.78"
            ]
          },
          "metadata": {
            "tags": []
          },
          "execution_count": 9
        }
      ]
    },
    {
      "cell_type": "code",
      "metadata": {
        "id": "ynjF21929Mjy",
        "colab_type": "code",
        "colab": {}
      },
      "source": [
        "#splitting off the testing and training set\n",
        "#Splitting off the testing set using train_test_split. Using a random state to produce reproducable results\n",
        "train_set, test_set = train_test_split(admissions_full_shuffled, test_size=0.2, random_state=42)"
      ],
      "execution_count": null,
      "outputs": []
    },
    {
      "cell_type": "markdown",
      "metadata": {
        "id": "gJrq95oH9WV-",
        "colab_type": "text"
      },
      "source": [
        "Using a test set 20% of the full dataset because there are not a ton of samples in the full dataset. Using the sklearn default of 25% would use too much of our data and we need as much as we can to make sure the models are trained well. Less than 20% would mean our test set is smaller and the test results may be skewed based on the fact that there isn't enough to test on."
      ]
    },
    {
      "cell_type": "markdown",
      "metadata": {
        "id": "aIlc3VteIJFf",
        "colab_type": "text"
      },
      "source": [
        "Explore the Data\n",
        "========"
      ]
    },
    {
      "cell_type": "markdown",
      "metadata": {
        "id": "s4qagFvR-Kj6",
        "colab_type": "text"
      },
      "source": [
        "## 1. Copy the data for exploration, downsampling to a manageable size if necessary."
      ]
    },
    {
      "cell_type": "code",
      "metadata": {
        "id": "pwskT-Q2-LC_",
        "colab_type": "code",
        "colab": {}
      },
      "source": [
        "train_set_copy = train_set.copy()"
      ],
      "execution_count": null,
      "outputs": []
    },
    {
      "cell_type": "markdown",
      "metadata": {
        "id": "TKgNC1Wr-gXH",
        "colab_type": "text"
      },
      "source": [
        "2.Study each attribute and its characteristics: Name; Type (categorical, numerical, bounded, text, structured, ...); % of missing values; Noisiness and type of noise (stochastic, outliers, rounding errors, ...); Possibly useful for the task?; Type of distribution (Gaussian, uniform, logarithmic, ...)"
      ]
    },
    {
      "cell_type": "code",
      "metadata": {
        "id": "BuL-vgHJ-hdR",
        "colab_type": "code",
        "colab": {
          "base_uri": "https://localhost:8080/",
          "height": 238
        },
        "outputId": "85b56aa7-79d8-4454-c1a7-81b771d2c08d"
      },
      "source": [
        "train_set_copy.info(verbose=True, null_counts=True)"
      ],
      "execution_count": null,
      "outputs": [
        {
          "output_type": "stream",
          "text": [
            "<class 'pandas.core.frame.DataFrame'>\n",
            "Int64Index: 720 entries, 437 to 530\n",
            "Data columns (total 8 columns):\n",
            "gre             720 non-null int64\n",
            "toefl           465 non-null float64\n",
            "university      720 non-null int64\n",
            "sop             720 non-null float64\n",
            "lor             681 non-null float64\n",
            "gpa             720 non-null float64\n",
            "research        720 non-null object\n",
            "admit_chance    720 non-null float64\n",
            "dtypes: float64(5), int64(2), object(1)\n",
            "memory usage: 50.6+ KB\n"
          ],
          "name": "stdout"
        }
      ]
    },
    {
      "cell_type": "markdown",
      "metadata": {
        "id": "kio-IJx4AFYM",
        "colab_type": "text"
      },
      "source": [
        "**Graduate Record Examination Scores** \n",
        "----------\n",
        "- integer value with no missing values. This attribute will likely be useful because basically every graduate applicant would have taken the gre. In addition to this, it is a standardized test which can differentiate the very good applicants from the weaker ones."
      ]
    },
    {
      "cell_type": "code",
      "metadata": {
        "id": "fgg5xjZQTiZX",
        "colab_type": "code",
        "colab": {
          "base_uri": "https://localhost:8080/",
          "height": 281
        },
        "outputId": "4042f20c-8521-4ad0-e8f6-fca4e01721f5"
      },
      "source": [
        "plt.hist(train_set_copy['gre'], bins = 50)\n",
        "plt.title('distribution of gre scores')\n",
        "pass"
      ],
      "execution_count": null,
      "outputs": [
        {
          "output_type": "display_data",
          "data": {
            "image/png": "[encoded data removed]",
            "text/plain": [
              "<Figure size 432x288 with 1 Axes>"
            ]
          },
          "metadata": {
            "tags": []
          }
        }
      ]
    },
    {
      "cell_type": "markdown",
      "metadata": {
        "id": "TVrSvlv27xP_",
        "colab_type": "text"
      },
      "source": [
        "The distribution is noisy but appears to be fairly normal in shape. Scores range from 290 to 340"
      ]
    },
    {
      "cell_type": "code",
      "metadata": {
        "id": "SvVKmURn6UD2",
        "colab_type": "code",
        "colab": {
          "base_uri": "https://localhost:8080/",
          "height": 295
        },
        "outputId": "4b7ad6e3-92b9-4a89-e70e-611872305438"
      },
      "source": [
        "plt.scatter(train_set_copy['gre'], train_set_copy['admit_chance'], alpha=0.2)\n",
        "plt.xlabel('gre')\n",
        "plt.ylabel('admit chance')\n",
        "plt.title(\"admit chance vs gre\")\n",
        "pass"
      ],
      "execution_count": null,
      "outputs": [
        {
          "output_type": "display_data",
          "data": {
            "image/png": "[encoded data removed]",
            "text/plain": [
              "<Figure size 432x288 with 1 Axes>"
            ]
          },
          "metadata": {
            "tags": []
          }
        }
      ]
    },
    {
      "cell_type": "markdown",
      "metadata": {
        "id": "JFe_k2nuTt5t",
        "colab_type": "text"
      },
      "source": [
        "Gre appears to have a large positive correlation with admit_chance. This would be beneficial to look at further down the line."
      ]
    },
    {
      "cell_type": "markdown",
      "metadata": {
        "id": "c0ZHEc8PBHdx",
        "colab_type": "text"
      },
      "source": [
        "**Test of English as a Foreign Language Scores**\n",
        "-----------\n",
        "- floating point value (looks like it could be an integer if the .0's are truncated off) with 256 values missing. This will probably not be as useful because a large number of the applicants did not take this test, but for the ones who did this may be another good indicator. "
      ]
    },
    {
      "cell_type": "code",
      "metadata": {
        "id": "uCGHZnmeTz7I",
        "colab_type": "code",
        "colab": {
          "base_uri": "https://localhost:8080/",
          "height": 349
        },
        "outputId": "17653074-0b71-4ae8-d5ae-9cf5362f6bd7"
      },
      "source": [
        "plt.hist(train_set_copy['toefl'], bins = 30)\n",
        "plt.title('distribution of toefl scores')\n",
        "pass"
      ],
      "execution_count": null,
      "outputs": [
        {
          "output_type": "stream",
          "text": [
            "/usr/local/lib/python3.6/dist-packages/numpy/lib/histograms.py:824: RuntimeWarning: invalid value encountered in greater_equal\n",
            "  keep = (tmp_a >= first_edge)\n",
            "/usr/local/lib/python3.6/dist-packages/numpy/lib/histograms.py:825: RuntimeWarning: invalid value encountered in less_equal\n",
            "  keep &= (tmp_a <= last_edge)\n"
          ],
          "name": "stderr"
        },
        {
          "output_type": "display_data",
          "data": {
            "image/png": "[encoded data removed]",
            "text/plain": [
              "<Figure size 432x288 with 1 Axes>"
            ]
          },
          "metadata": {
            "tags": []
          }
        }
      ]
    },
    {
      "cell_type": "markdown",
      "metadata": {
        "id": "3tAmG91FeU-J",
        "colab_type": "text"
      },
      "source": [
        "The distribution here is similar to the gre data, this is fairly normal in shape with the exception of a hole in the middle at 105."
      ]
    },
    {
      "cell_type": "markdown",
      "metadata": {
        "id": "fvEsMw_NVb-S",
        "colab_type": "text"
      },
      "source": [
        "Considering that if someone did not take this test then the applicant is a native english speaker, it would make sense to fill the NaN values with close to a perfect score. We are not just removing the values with NaN's because there are not too many datapoints to begin with, so we cannot afford to drop that many."
      ]
    },
    {
      "cell_type": "code",
      "metadata": {
        "id": "dK2Nqhp0V3wc",
        "colab_type": "code",
        "colab": {}
      },
      "source": [
        "train_set_copy['toefl'] = train_set_copy['toefl'].fillna(100)"
      ],
      "execution_count": null,
      "outputs": []
    },
    {
      "cell_type": "code",
      "metadata": {
        "id": "EsiomVlVWLmy",
        "colab_type": "code",
        "colab": {
          "base_uri": "https://localhost:8080/",
          "height": 238
        },
        "outputId": "8ba1380a-7820-4a23-d0fb-619d05ad9392"
      },
      "source": [
        "train_set_copy.info(verbose=True, null_counts=True)"
      ],
      "execution_count": null,
      "outputs": [
        {
          "output_type": "stream",
          "text": [
            "<class 'pandas.core.frame.DataFrame'>\n",
            "Int64Index: 720 entries, 437 to 530\n",
            "Data columns (total 8 columns):\n",
            "gre             720 non-null int64\n",
            "toefl           720 non-null float64\n",
            "university      720 non-null int64\n",
            "sop             720 non-null float64\n",
            "lor             681 non-null float64\n",
            "gpa             720 non-null float64\n",
            "research        720 non-null object\n",
            "admit_chance    720 non-null float64\n",
            "dtypes: float64(5), int64(2), object(1)\n",
            "memory usage: 50.6+ KB\n"
          ],
          "name": "stdout"
        }
      ]
    },
    {
      "cell_type": "markdown",
      "metadata": {
        "id": "ZNDYcTa-erzG",
        "colab_type": "text"
      },
      "source": [
        "All of the toefl values have been filled."
      ]
    },
    {
      "cell_type": "markdown",
      "metadata": {
        "id": "Y8Ti3hnKB5ni",
        "colab_type": "text"
      },
      "source": [
        "**University**\n",
        "---------\n",
        "- integer value with no missing values. This attribute will likely be useful because basically every graduate applicant in this dataset has a value for this. on a scale from 1 - 5. "
      ]
    },
    {
      "cell_type": "code",
      "metadata": {
        "id": "0MDek1zhT_j5",
        "colab_type": "code",
        "colab": {
          "base_uri": "https://localhost:8080/",
          "height": 281
        },
        "outputId": "530853da-f42f-4777-b76c-160ac89043ff"
      },
      "source": [
        "plt.hist(train_set_copy['university'], bins = 8)\n",
        "plt.title('distribution of university scores')\n",
        "pass"
      ],
      "execution_count": null,
      "outputs": [
        {
          "output_type": "display_data",
          "data": {
            "image/png": "[encoded data removed]",
            "text/plain": [
              "<Figure size 432x288 with 1 Axes>"
            ]
          },
          "metadata": {
            "tags": []
          }
        }
      ]
    },
    {
      "cell_type": "markdown",
      "metadata": {
        "id": "0fDIWiCOBuoP",
        "colab_type": "text"
      },
      "source": [
        "**Statement of Purpose Quality** \n",
        "----------\n",
        "- floating point value with no missing values. This attribute will likely be useful because every applicant in this dataset has a value for this attribute. This is also on a scale from 1 - 5."
      ]
    },
    {
      "cell_type": "code",
      "metadata": {
        "id": "SSkXNVYsUOr-",
        "colab_type": "code",
        "colab": {
          "base_uri": "https://localhost:8080/",
          "height": 281
        },
        "outputId": "3883f113-51d7-463e-ffe2-f3689b2d7ffc"
      },
      "source": [
        "plt.hist(train_set_copy['sop'], bins = 8)\n",
        "plt.title('distribution of sop scores')\n",
        "pass"
      ],
      "execution_count": null,
      "outputs": [
        {
          "output_type": "display_data",
          "data": {
            "image/png": "[encoded data removed]",
            "text/plain": [
              "<Figure size 432x288 with 1 Axes>"
            ]
          },
          "metadata": {
            "tags": []
          }
        }
      ]
    },
    {
      "cell_type": "markdown",
      "metadata": {
        "id": "SaxLqoFU8UPc",
        "colab_type": "text"
      },
      "source": [
        "This data appears to be left skewed, and most applicants have values close to 5. There are no holes. This may be a good candidate for a transformation if the correlation is not already high enough. We will also check the shape again in a scatter matrix."
      ]
    },
    {
      "cell_type": "markdown",
      "metadata": {
        "id": "8ScBmdr2CmOL",
        "colab_type": "text"
      },
      "source": [
        "**Letter of Reccomendation Quality** \n",
        "-------\n",
        "- floating point value with 40 missing values. This is also on a scale from 1 - 5. Probably important because most applicants have this."
      ]
    },
    {
      "cell_type": "code",
      "metadata": {
        "id": "s7CQmSY1USyo",
        "colab_type": "code",
        "colab": {
          "base_uri": "https://localhost:8080/",
          "height": 349
        },
        "outputId": "fd064770-5927-45ff-876a-4d6012ce2e4e"
      },
      "source": [
        "plt.hist(train_set_copy['lor'], bins = 10)\n",
        "plt.title('distribution of lor scores')\n",
        "pass"
      ],
      "execution_count": null,
      "outputs": [
        {
          "output_type": "stream",
          "text": [
            "/usr/local/lib/python3.6/dist-packages/numpy/lib/histograms.py:824: RuntimeWarning: invalid value encountered in greater_equal\n",
            "  keep = (tmp_a >= first_edge)\n",
            "/usr/local/lib/python3.6/dist-packages/numpy/lib/histograms.py:825: RuntimeWarning: invalid value encountered in less_equal\n",
            "  keep &= (tmp_a <= last_edge)\n"
          ],
          "name": "stderr"
        },
        {
          "output_type": "display_data",
          "data": {
            "image/png": "[encoded data removed]",
            "text/plain": [
              "<Figure size 432x288 with 1 Axes>"
            ]
          },
          "metadata": {
            "tags": []
          }
        }
      ]
    },
    {
      "cell_type": "markdown",
      "metadata": {
        "id": "qUSppA5v8j7w",
        "colab_type": "text"
      },
      "source": [
        "This data appears to be heavily left skewed, and most applicants have values close to 5. This may be a good candidate for a transformation. It also needs the NaN values to be filled. There are no holes and if the correlation is already high we may not need a transformation."
      ]
    },
    {
      "cell_type": "markdown",
      "metadata": {
        "id": "4pEgxHelXC0-",
        "colab_type": "text"
      },
      "source": [
        "assuming that if an applicant does not have a value for their lor or has a NaN that means they do not have a letter of rec so we can fill them with 0's. We are not just dropping the datapoints with NaN's because we do not have many samples to begin with so we can not afford to drop very many."
      ]
    },
    {
      "cell_type": "code",
      "metadata": {
        "id": "xBaKGhAwXP4p",
        "colab_type": "code",
        "colab": {}
      },
      "source": [
        "train_set_copy['lor'] = train_set_copy['lor'].fillna(0)"
      ],
      "execution_count": null,
      "outputs": []
    },
    {
      "cell_type": "code",
      "metadata": {
        "id": "WTVfAW-oXVSc",
        "colab_type": "code",
        "colab": {
          "base_uri": "https://localhost:8080/",
          "height": 238
        },
        "outputId": "39bb14d9-73a2-4eb8-e86d-cf523175d1c2"
      },
      "source": [
        "train_set_copy.info(verbose=True, null_counts=True)"
      ],
      "execution_count": null,
      "outputs": [
        {
          "output_type": "stream",
          "text": [
            "<class 'pandas.core.frame.DataFrame'>\n",
            "Int64Index: 720 entries, 437 to 530\n",
            "Data columns (total 8 columns):\n",
            "gre             720 non-null int64\n",
            "toefl           720 non-null float64\n",
            "university      720 non-null int64\n",
            "sop             720 non-null float64\n",
            "lor             720 non-null float64\n",
            "gpa             720 non-null float64\n",
            "research        720 non-null object\n",
            "admit_chance    720 non-null float64\n",
            "dtypes: float64(5), int64(2), object(1)\n",
            "memory usage: 50.6+ KB\n"
          ],
          "name": "stdout"
        }
      ]
    },
    {
      "cell_type": "markdown",
      "metadata": {
        "id": "aMESWA4BXYJU",
        "colab_type": "text"
      },
      "source": [
        "Now there are no more NaN values in the data to be dealt with and we can check the data more thoroughly"
      ]
    },
    {
      "cell_type": "code",
      "metadata": {
        "id": "rpcKDGLM9ASA",
        "colab_type": "code",
        "colab": {
          "base_uri": "https://localhost:8080/",
          "height": 281
        },
        "outputId": "dac050eb-48e5-4867-89c0-246b84356181"
      },
      "source": [
        "plt.hist(train_set_copy['lor'], bins = 10)\n",
        "plt.title('distribution of lor scores')\n",
        "pass"
      ],
      "execution_count": null,
      "outputs": [
        {
          "output_type": "display_data",
          "data": {
            "image/png": "[encoded data removed]",
            "text/plain": [
              "<Figure size 432x288 with 1 Axes>"
            ]
          },
          "metadata": {
            "tags": []
          }
        }
      ]
    },
    {
      "cell_type": "markdown",
      "metadata": {
        "id": "8lcw3NDo9Bbf",
        "colab_type": "text"
      },
      "source": [
        "Filling the NaN's did not change much, it just added more values at 0 as was expected."
      ]
    },
    {
      "cell_type": "code",
      "metadata": {
        "id": "3eDJWaOMnnxt",
        "colab_type": "code",
        "colab": {}
      },
      "source": [
        ""
      ],
      "execution_count": null,
      "outputs": []
    },
    {
      "cell_type": "markdown",
      "metadata": {
        "id": "LD3MrZOyMuZY",
        "colab_type": "text"
      },
      "source": [
        "**Grade Point Average on 4.0 scale** \n",
        "---------\n",
        "- floating point value with no missing values. This attribute pretty much definitely be useful because every applicant in this dataset has a value for this attribute and from intuition/prior knowlege, grade point average is important. This is on a scale from 0 - 4, but in the data the min is 2.72 and the max is 3.97"
      ]
    },
    {
      "cell_type": "code",
      "metadata": {
        "id": "_eyVzESJUV61",
        "colab_type": "code",
        "colab": {
          "base_uri": "https://localhost:8080/",
          "height": 281
        },
        "outputId": "5c6ba60f-07f3-4ea8-9271-fa7fb5913023"
      },
      "source": [
        "plt.hist(train_set_copy['gpa'], bins = 30)\n",
        "plt.title('distribution of gpas')\n",
        "pass"
      ],
      "execution_count": null,
      "outputs": [
        {
          "output_type": "display_data",
          "data": {
            "image/png": "[encoded data removed]",
            "text/plain": [
              "<Figure size 432x288 with 1 Axes>"
            ]
          },
          "metadata": {
            "tags": []
          }
        }
      ]
    },
    {
      "cell_type": "markdown",
      "metadata": {
        "id": "74qq9H7Of7mA",
        "colab_type": "text"
      },
      "source": [
        "Yet another attribute with a good bell shaped curve. This attribute has no holes and nothing missing to be filled in so it will possibly be one of the best predictors of admit_chance"
      ]
    },
    {
      "cell_type": "code",
      "metadata": {
        "id": "DuMu1O4WvoKs",
        "colab_type": "code",
        "colab": {
          "base_uri": "https://localhost:8080/",
          "height": 283
        },
        "outputId": "8c57f663-0aae-4f6c-d29d-c1d17bf845b1"
      },
      "source": [
        "plt.scatter(train_set_copy['gpa'], train_set_copy['admit_chance'], alpha=0.3)\n",
        "plt.xlabel('gpa')\n",
        "plt.ylabel('admit chance')\n",
        "pass"
      ],
      "execution_count": null,
      "outputs": [
        {
          "output_type": "display_data",
          "data": {
            "image/png": "[encoded data removed]",
            "text/plain": [
              "<Figure size 432x288 with 1 Axes>"
            ]
          },
          "metadata": {
            "tags": []
          }
        }
      ]
    },
    {
      "cell_type": "markdown",
      "metadata": {
        "id": "DK3eKrjj9H4h",
        "colab_type": "text"
      },
      "source": [
        "GPA appears to have a really strong correlation with admit chance. Again, this seems like it would be very important in the final algorithm."
      ]
    },
    {
      "cell_type": "markdown",
      "metadata": {
        "id": "9DZ1fat9SsQY",
        "colab_type": "text"
      },
      "source": [
        "**Research** \n",
        "----------\n",
        "- yes or no attribute with no missing values. This attribute in its current state would not be very useful, but could be changed into a boolean value or a one hot encoder attribute. "
      ]
    },
    {
      "cell_type": "code",
      "metadata": {
        "id": "Ah70uM7OUkV1",
        "colab_type": "code",
        "colab": {
          "base_uri": "https://localhost:8080/",
          "height": 68
        },
        "outputId": "40e614e0-bd4a-41b3-cef3-240a1d706566"
      },
      "source": [
        "train_set_copy.research.value_counts() / len(train_set_copy) * 100 # displays as percentage"
      ],
      "execution_count": null,
      "outputs": [
        {
          "output_type": "execute_result",
          "data": {
            "text/plain": [
              "yes    55.416667\n",
              "no     44.583333\n",
              "Name: research, dtype: float64"
            ]
          },
          "metadata": {
            "tags": []
          },
          "execution_count": 26
        }
      ]
    },
    {
      "cell_type": "markdown",
      "metadata": {
        "id": "OxbNRdXH2g97",
        "colab_type": "text"
      },
      "source": [
        "44.4% of applicants in our sample have not done research while 55.6% have"
      ]
    },
    {
      "cell_type": "code",
      "metadata": {
        "id": "iUf_U661YfjR",
        "colab_type": "code",
        "colab": {}
      },
      "source": [
        "#Changing yeses and nos to 1's and 0's respectively\n",
        "train_set_copy = train_set_copy.replace('yes', 1)\n",
        "train_set_copy = train_set_copy.replace('no', 0)"
      ],
      "execution_count": null,
      "outputs": []
    },
    {
      "cell_type": "code",
      "metadata": {
        "id": "5oxAE20qY1Yz",
        "colab_type": "code",
        "colab": {
          "base_uri": "https://localhost:8080/",
          "height": 359
        },
        "outputId": "2295a32c-5a99-4c3f-9da4-5330b52cb280"
      },
      "source": [
        "#Verifying that it worked correctly\n",
        "train_set_copy[:10]"
      ],
      "execution_count": null,
      "outputs": [
        {
          "output_type": "execute_result",
          "data": {
            "text/html": [
              "<div>\n",
              "<style scoped>\n",
              "    .dataframe tbody tr th:only-of-type {\n",
              "        vertical-align: middle;\n",
              "    }\n",
              "\n",
              "    .dataframe tbody tr th {\n",
              "        vertical-align: top;\n",
              "    }\n",
              "\n",
              "    .dataframe thead th {\n",
              "        text-align: right;\n",
              "    }\n",
              "</style>\n",
              "<table border=\"1\" class=\"dataframe\">\n",
              "  <thead>\n",
              "    <tr style=\"text-align: right;\">\n",
              "      <th></th>\n",
              "      <th>gre</th>\n",
              "      <th>toefl</th>\n",
              "      <th>university</th>\n",
              "      <th>sop</th>\n",
              "      <th>lor</th>\n",
              "      <th>gpa</th>\n",
              "      <th>research</th>\n",
              "      <th>admit_chance</th>\n",
              "    </tr>\n",
              "  </thead>\n",
              "  <tbody>\n",
              "    <tr>\n",
              "      <th>437</th>\n",
              "      <td>323</td>\n",
              "      <td>104.0</td>\n",
              "      <td>3</td>\n",
              "      <td>4.0</td>\n",
              "      <td>4.0</td>\n",
              "      <td>3.38</td>\n",
              "      <td>1</td>\n",
              "      <td>0.73</td>\n",
              "    </tr>\n",
              "    <tr>\n",
              "      <th>677</th>\n",
              "      <td>318</td>\n",
              "      <td>110.0</td>\n",
              "      <td>3</td>\n",
              "      <td>4.0</td>\n",
              "      <td>0.0</td>\n",
              "      <td>3.52</td>\n",
              "      <td>0</td>\n",
              "      <td>0.63</td>\n",
              "    </tr>\n",
              "    <tr>\n",
              "      <th>328</th>\n",
              "      <td>319</td>\n",
              "      <td>100.0</td>\n",
              "      <td>3</td>\n",
              "      <td>2.5</td>\n",
              "      <td>2.0</td>\n",
              "      <td>3.48</td>\n",
              "      <td>1</td>\n",
              "      <td>0.78</td>\n",
              "    </tr>\n",
              "    <tr>\n",
              "      <th>58</th>\n",
              "      <td>335</td>\n",
              "      <td>115.0</td>\n",
              "      <td>4</td>\n",
              "      <td>4.5</td>\n",
              "      <td>4.5</td>\n",
              "      <td>3.87</td>\n",
              "      <td>1</td>\n",
              "      <td>0.93</td>\n",
              "    </tr>\n",
              "    <tr>\n",
              "      <th>149</th>\n",
              "      <td>320</td>\n",
              "      <td>110.0</td>\n",
              "      <td>5</td>\n",
              "      <td>5.0</td>\n",
              "      <td>5.0</td>\n",
              "      <td>3.68</td>\n",
              "      <td>1</td>\n",
              "      <td>0.88</td>\n",
              "    </tr>\n",
              "    <tr>\n",
              "      <th>420</th>\n",
              "      <td>311</td>\n",
              "      <td>104.0</td>\n",
              "      <td>3</td>\n",
              "      <td>4.0</td>\n",
              "      <td>3.5</td>\n",
              "      <td>3.25</td>\n",
              "      <td>1</td>\n",
              "      <td>0.74</td>\n",
              "    </tr>\n",
              "    <tr>\n",
              "      <th>265</th>\n",
              "      <td>321</td>\n",
              "      <td>100.0</td>\n",
              "      <td>3</td>\n",
              "      <td>3.5</td>\n",
              "      <td>4.0</td>\n",
              "      <td>3.60</td>\n",
              "      <td>1</td>\n",
              "      <td>0.80</td>\n",
              "    </tr>\n",
              "    <tr>\n",
              "      <th>816</th>\n",
              "      <td>312</td>\n",
              "      <td>99.0</td>\n",
              "      <td>1</td>\n",
              "      <td>1.0</td>\n",
              "      <td>0.0</td>\n",
              "      <td>3.20</td>\n",
              "      <td>1</td>\n",
              "      <td>0.52</td>\n",
              "    </tr>\n",
              "    <tr>\n",
              "      <th>9</th>\n",
              "      <td>335</td>\n",
              "      <td>117.0</td>\n",
              "      <td>5</td>\n",
              "      <td>5.0</td>\n",
              "      <td>5.0</td>\n",
              "      <td>3.93</td>\n",
              "      <td>1</td>\n",
              "      <td>0.96</td>\n",
              "    </tr>\n",
              "    <tr>\n",
              "      <th>606</th>\n",
              "      <td>319</td>\n",
              "      <td>108.0</td>\n",
              "      <td>2</td>\n",
              "      <td>2.5</td>\n",
              "      <td>3.0</td>\n",
              "      <td>3.50</td>\n",
              "      <td>0</td>\n",
              "      <td>0.66</td>\n",
              "    </tr>\n",
              "  </tbody>\n",
              "</table>\n",
              "</div>"
            ],
            "text/plain": [
              "     gre  toefl  university  sop  lor   gpa  research  admit_chance\n",
              "437  323  104.0           3  4.0  4.0  3.38         1          0.73\n",
              "677  318  110.0           3  4.0  0.0  3.52         0          0.63\n",
              "328  319  100.0           3  2.5  2.0  3.48         1          0.78\n",
              "58   335  115.0           4  4.5  4.5  3.87         1          0.93\n",
              "149  320  110.0           5  5.0  5.0  3.68         1          0.88\n",
              "420  311  104.0           3  4.0  3.5  3.25         1          0.74\n",
              "265  321  100.0           3  3.5  4.0  3.60         1          0.80\n",
              "816  312   99.0           1  1.0  0.0  3.20         1          0.52\n",
              "9    335  117.0           5  5.0  5.0  3.93         1          0.96\n",
              "606  319  108.0           2  2.5  3.0  3.50         0          0.66"
            ]
          },
          "metadata": {
            "tags": []
          },
          "execution_count": 28
        }
      ]
    },
    {
      "cell_type": "markdown",
      "metadata": {
        "id": "mVdwt1S1gcjZ",
        "colab_type": "text"
      },
      "source": [
        "This makes research into a one hot encoded attribute for whether or not the applicant has done research."
      ]
    },
    {
      "cell_type": "markdown",
      "metadata": {
        "id": "stUOHYRnTBPb",
        "colab_type": "text"
      },
      "source": [
        "**Chance of Admittance** \n",
        "--------------\n",
        "- floating point value from 0 - 1 for the chance the applicant has at being admitted to grad school. This is the target attribute and as such will not be recieving any transformations or changes."
      ]
    },
    {
      "cell_type": "code",
      "metadata": {
        "id": "4mcblUmKVGoK",
        "colab_type": "code",
        "colab": {
          "base_uri": "https://localhost:8080/",
          "height": 269
        },
        "outputId": "73a02542-ce65-46e6-a3a6-7fe2b593a3ad"
      },
      "source": [
        "plt.hist(train_set_copy['admit_chance'], bins = 60)\n",
        "pass"
      ],
      "execution_count": null,
      "outputs": [
        {
          "output_type": "display_data",
          "data": {
            "image/png": "[encoded data removed]",
            "text/plain": [
              "<Figure size 432x288 with 1 Axes>"
            ]
          },
          "metadata": {
            "tags": []
          }
        }
      ]
    },
    {
      "cell_type": "markdown",
      "metadata": {
        "id": "V3PGhHi2guKE",
        "colab_type": "text"
      },
      "source": [
        "Slightly skewed left shape but overall seems bellshaped with a lot of noise. This is the target attribute so we will not be transforming it at all but it is good to know it has an ideal expected shape"
      ]
    },
    {
      "cell_type": "markdown",
      "metadata": {
        "id": "VO12-2OM-jZM",
        "colab_type": "text"
      },
      "source": [
        "## 3. For supervised learning tasks, identify the target attribute(s)\n",
        "\n",
        "The target attribute is admit_chance"
      ]
    },
    {
      "cell_type": "code",
      "metadata": {
        "id": "P6kTAwXC-kCG",
        "colab_type": "code",
        "colab": {
          "base_uri": "https://localhost:8080/",
          "height": 297
        },
        "outputId": "bf90112b-a311-4873-e91f-402e48e92342"
      },
      "source": [
        "train_set_copy.describe()"
      ],
      "execution_count": null,
      "outputs": [
        {
          "output_type": "execute_result",
          "data": {
            "text/html": [
              "<div>\n",
              "<style scoped>\n",
              "    .dataframe tbody tr th:only-of-type {\n",
              "        vertical-align: middle;\n",
              "    }\n",
              "\n",
              "    .dataframe tbody tr th {\n",
              "        vertical-align: top;\n",
              "    }\n",
              "\n",
              "    .dataframe thead th {\n",
              "        text-align: right;\n",
              "    }\n",
              "</style>\n",
              "<table border=\"1\" class=\"dataframe\">\n",
              "  <thead>\n",
              "    <tr style=\"text-align: right;\">\n",
              "      <th></th>\n",
              "      <th>gre</th>\n",
              "      <th>toefl</th>\n",
              "      <th>university</th>\n",
              "      <th>sop</th>\n",
              "      <th>lor</th>\n",
              "      <th>gpa</th>\n",
              "      <th>research</th>\n",
              "      <th>admit_chance</th>\n",
              "    </tr>\n",
              "  </thead>\n",
              "  <tbody>\n",
              "    <tr>\n",
              "      <th>count</th>\n",
              "      <td>720.000000</td>\n",
              "      <td>720.000000</td>\n",
              "      <td>720.000000</td>\n",
              "      <td>720.000000</td>\n",
              "      <td>720.000000</td>\n",
              "      <td>720.000000</td>\n",
              "      <td>720.000000</td>\n",
              "      <td>720.000000</td>\n",
              "    </tr>\n",
              "    <tr>\n",
              "      <th>mean</th>\n",
              "      <td>316.884722</td>\n",
              "      <td>104.547222</td>\n",
              "      <td>3.138889</td>\n",
              "      <td>3.415972</td>\n",
              "      <td>3.295833</td>\n",
              "      <td>3.444069</td>\n",
              "      <td>0.554167</td>\n",
              "      <td>0.726597</td>\n",
              "    </tr>\n",
              "    <tr>\n",
              "      <th>std</th>\n",
              "      <td>11.409402</td>\n",
              "      <td>5.918594</td>\n",
              "      <td>1.150746</td>\n",
              "      <td>0.979744</td>\n",
              "      <td>1.185205</td>\n",
              "      <td>0.238068</td>\n",
              "      <td>0.497403</td>\n",
              "      <td>0.142364</td>\n",
              "    </tr>\n",
              "    <tr>\n",
              "      <th>min</th>\n",
              "      <td>290.000000</td>\n",
              "      <td>92.000000</td>\n",
              "      <td>1.000000</td>\n",
              "      <td>1.000000</td>\n",
              "      <td>0.000000</td>\n",
              "      <td>2.720000</td>\n",
              "      <td>0.000000</td>\n",
              "      <td>0.340000</td>\n",
              "    </tr>\n",
              "    <tr>\n",
              "      <th>25%</th>\n",
              "      <td>309.000000</td>\n",
              "      <td>100.000000</td>\n",
              "      <td>2.000000</td>\n",
              "      <td>2.500000</td>\n",
              "      <td>2.875000</td>\n",
              "      <td>3.270000</td>\n",
              "      <td>0.000000</td>\n",
              "      <td>0.640000</td>\n",
              "    </tr>\n",
              "    <tr>\n",
              "      <th>50%</th>\n",
              "      <td>317.000000</td>\n",
              "      <td>102.000000</td>\n",
              "      <td>3.000000</td>\n",
              "      <td>3.500000</td>\n",
              "      <td>3.500000</td>\n",
              "      <td>3.460000</td>\n",
              "      <td>1.000000</td>\n",
              "      <td>0.730000</td>\n",
              "    </tr>\n",
              "    <tr>\n",
              "      <th>75%</th>\n",
              "      <td>325.000000</td>\n",
              "      <td>109.000000</td>\n",
              "      <td>4.000000</td>\n",
              "      <td>4.000000</td>\n",
              "      <td>4.000000</td>\n",
              "      <td>3.630000</td>\n",
              "      <td>1.000000</td>\n",
              "      <td>0.840000</td>\n",
              "    </tr>\n",
              "    <tr>\n",
              "      <th>max</th>\n",
              "      <td>340.000000</td>\n",
              "      <td>120.000000</td>\n",
              "      <td>5.000000</td>\n",
              "      <td>5.000000</td>\n",
              "      <td>5.000000</td>\n",
              "      <td>3.970000</td>\n",
              "      <td>1.000000</td>\n",
              "      <td>0.970000</td>\n",
              "    </tr>\n",
              "  </tbody>\n",
              "</table>\n",
              "</div>"
            ],
            "text/plain": [
              "              gre       toefl  university         sop         lor         gpa  \\\n",
              "count  720.000000  720.000000  720.000000  720.000000  720.000000  720.000000   \n",
              "mean   316.884722  104.547222    3.138889    3.415972    3.295833    3.444069   \n",
              "std     11.409402    5.918594    1.150746    0.979744    1.185205    0.238068   \n",
              "min    290.000000   92.000000    1.000000    1.000000    0.000000    2.720000   \n",
              "25%    309.000000  100.000000    2.000000    2.500000    2.875000    3.270000   \n",
              "50%    317.000000  102.000000    3.000000    3.500000    3.500000    3.460000   \n",
              "75%    325.000000  109.000000    4.000000    4.000000    4.000000    3.630000   \n",
              "max    340.000000  120.000000    5.000000    5.000000    5.000000    3.970000   \n",
              "\n",
              "         research  admit_chance  \n",
              "count  720.000000    720.000000  \n",
              "mean     0.554167      0.726597  \n",
              "std      0.497403      0.142364  \n",
              "min      0.000000      0.340000  \n",
              "25%      0.000000      0.640000  \n",
              "50%      1.000000      0.730000  \n",
              "75%      1.000000      0.840000  \n",
              "max      1.000000      0.970000  "
            ]
          },
          "metadata": {
            "tags": []
          },
          "execution_count": 30
        }
      ]
    },
    {
      "cell_type": "markdown",
      "metadata": {
        "id": "ol9U9rUPhAfS",
        "colab_type": "text"
      },
      "source": [
        "No attribute has heinous outliers, no attribute has any values missing anymore and they all look as we would expect them to."
      ]
    },
    {
      "cell_type": "markdown",
      "metadata": {
        "id": "LLAZj_F3YAXG",
        "colab_type": "text"
      },
      "source": [
        "## 4. Visualize the data"
      ]
    },
    {
      "cell_type": "markdown",
      "metadata": {
        "id": "-ROvP6wlhQu5",
        "colab_type": "text"
      },
      "source": [
        "Looking at all the distributions and comparing them with each other"
      ]
    },
    {
      "cell_type": "code",
      "metadata": {
        "id": "Ojy2zTNJ26G8",
        "colab_type": "code",
        "colab": {
          "base_uri": "https://localhost:8080/",
          "height": 716
        },
        "outputId": "a41a98c6-695f-4097-c2ca-d4a59e58bad9"
      },
      "source": [
        "train_set_copy.hist(bins=55, figsize=(15,12))\n",
        "pass"
      ],
      "execution_count": null,
      "outputs": [
        {
          "output_type": "display_data",
          "data": {
            "image/png": "[encoded data removed]",
            "text/plain": [
              "<Figure size 1080x864 with 9 Axes>"
            ]
          },
          "metadata": {
            "tags": []
          }
        }
      ]
    },
    {
      "cell_type": "markdown",
      "metadata": {
        "id": "neX5y1M5hVqr",
        "colab_type": "text"
      },
      "source": [
        "Yet again, most distributions are bell shaped. When breaking lor and sop down again with a different number of bins they seem less skewed than before. A good next step is to look at all the scatter plots between attributes to see how they connect/correlate with each other."
      ]
    },
    {
      "cell_type": "code",
      "metadata": {
        "id": "NFPlYhOA4nG8",
        "colab_type": "code",
        "colab": {
          "base_uri": "https://localhost:8080/",
          "height": 726
        },
        "outputId": "da2de2eb-a265-49ce-dd10-fb80d1ff4a40"
      },
      "source": [
        "scatter_matrix(train_set_copy, figsize=(15,12))\n",
        "pass"
      ],
      "execution_count": null,
      "outputs": [
        {
          "output_type": "display_data",
          "data": {
            "image/png": "[encoded data removed]",
            "text/plain": [
              "<Figure size 1080x864 with 64 Axes>"
            ]
          },
          "metadata": {
            "tags": []
          }
        }
      ]
    },
    {
      "cell_type": "markdown",
      "metadata": {
        "id": "SafhK0Idhr8i",
        "colab_type": "text"
      },
      "source": [
        "The plots we care about the most are with each attribute and admit_chance. That being said, most have a positive slope/correlation. As stated above, gre and gpa both have strong correlations with admit_chance, while toefl has a slightly weaker but still positive correlation. sop lor and university form lines because each value is from 0 - 5 and only every 0.5. This makes them less usefull and makes the graphs look more peculiar. And of course research is categorical so it should not appear with a scatter plot.\n",
        "\n",
        "Because all the graphs look linear and positive like this we do not need to apply transformations to fit them better."
      ]
    },
    {
      "cell_type": "markdown",
      "metadata": {
        "id": "fTWHkwqOYB-C",
        "colab_type": "text"
      },
      "source": [
        "## 5. Study the correlations between attributes"
      ]
    },
    {
      "cell_type": "markdown",
      "metadata": {
        "id": "WoyBZGIkYN7p",
        "colab_type": "text"
      },
      "source": [
        "At this point we have discovered lots of things in indivdual attributes and setup our data for further study. Now we want to look for some correlations in it, especially with the target atribute admit_chance"
      ]
    },
    {
      "cell_type": "code",
      "metadata": {
        "id": "DSIVtbHGYIYc",
        "colab_type": "code",
        "colab": {
          "base_uri": "https://localhost:8080/",
          "height": 297
        },
        "outputId": "73bce87a-d634-4779-9923-c068208585c6"
      },
      "source": [
        "train_set_copy.corr()"
      ],
      "execution_count": null,
      "outputs": [
        {
          "output_type": "execute_result",
          "data": {
            "text/html": [
              "<div>\n",
              "<style scoped>\n",
              "    .dataframe tbody tr th:only-of-type {\n",
              "        vertical-align: middle;\n",
              "    }\n",
              "\n",
              "    .dataframe tbody tr th {\n",
              "        vertical-align: top;\n",
              "    }\n",
              "\n",
              "    .dataframe thead th {\n",
              "        text-align: right;\n",
              "    }\n",
              "</style>\n",
              "<table border=\"1\" class=\"dataframe\">\n",
              "  <thead>\n",
              "    <tr style=\"text-align: right;\">\n",
              "      <th></th>\n",
              "      <th>gre</th>\n",
              "      <th>toefl</th>\n",
              "      <th>university</th>\n",
              "      <th>sop</th>\n",
              "      <th>lor</th>\n",
              "      <th>gpa</th>\n",
              "      <th>research</th>\n",
              "      <th>admit_chance</th>\n",
              "    </tr>\n",
              "  </thead>\n",
              "  <tbody>\n",
              "    <tr>\n",
              "      <th>gre</th>\n",
              "      <td>1.000000</td>\n",
              "      <td>0.507996</td>\n",
              "      <td>0.644019</td>\n",
              "      <td>0.593183</td>\n",
              "      <td>0.346053</td>\n",
              "      <td>0.832952</td>\n",
              "      <td>0.595042</td>\n",
              "      <td>0.819237</td>\n",
              "    </tr>\n",
              "    <tr>\n",
              "      <th>toefl</th>\n",
              "      <td>0.507996</td>\n",
              "      <td>1.000000</td>\n",
              "      <td>0.404389</td>\n",
              "      <td>0.383546</td>\n",
              "      <td>0.255659</td>\n",
              "      <td>0.505421</td>\n",
              "      <td>0.299836</td>\n",
              "      <td>0.469789</td>\n",
              "    </tr>\n",
              "    <tr>\n",
              "      <th>university</th>\n",
              "      <td>0.644019</td>\n",
              "      <td>0.404389</td>\n",
              "      <td>1.000000</td>\n",
              "      <td>0.724628</td>\n",
              "      <td>0.418527</td>\n",
              "      <td>0.715237</td>\n",
              "      <td>0.453374</td>\n",
              "      <td>0.697429</td>\n",
              "    </tr>\n",
              "    <tr>\n",
              "      <th>sop</th>\n",
              "      <td>0.593183</td>\n",
              "      <td>0.383546</td>\n",
              "      <td>0.724628</td>\n",
              "      <td>1.000000</td>\n",
              "      <td>0.462208</td>\n",
              "      <td>0.705539</td>\n",
              "      <td>0.439590</td>\n",
              "      <td>0.674809</td>\n",
              "    </tr>\n",
              "    <tr>\n",
              "      <th>lor</th>\n",
              "      <td>0.346053</td>\n",
              "      <td>0.255659</td>\n",
              "      <td>0.418527</td>\n",
              "      <td>0.462208</td>\n",
              "      <td>1.000000</td>\n",
              "      <td>0.438641</td>\n",
              "      <td>0.248810</td>\n",
              "      <td>0.449975</td>\n",
              "    </tr>\n",
              "    <tr>\n",
              "      <th>gpa</th>\n",
              "      <td>0.832952</td>\n",
              "      <td>0.505421</td>\n",
              "      <td>0.715237</td>\n",
              "      <td>0.705539</td>\n",
              "      <td>0.438641</td>\n",
              "      <td>1.000000</td>\n",
              "      <td>0.533778</td>\n",
              "      <td>0.880281</td>\n",
              "    </tr>\n",
              "    <tr>\n",
              "      <th>research</th>\n",
              "      <td>0.595042</td>\n",
              "      <td>0.299836</td>\n",
              "      <td>0.453374</td>\n",
              "      <td>0.439590</td>\n",
              "      <td>0.248810</td>\n",
              "      <td>0.533778</td>\n",
              "      <td>1.000000</td>\n",
              "      <td>0.566007</td>\n",
              "    </tr>\n",
              "    <tr>\n",
              "      <th>admit_chance</th>\n",
              "      <td>0.819237</td>\n",
              "      <td>0.469789</td>\n",
              "      <td>0.697429</td>\n",
              "      <td>0.674809</td>\n",
              "      <td>0.449975</td>\n",
              "      <td>0.880281</td>\n",
              "      <td>0.566007</td>\n",
              "      <td>1.000000</td>\n",
              "    </tr>\n",
              "  </tbody>\n",
              "</table>\n",
              "</div>"
            ],
            "text/plain": [
              "                   gre     toefl  university       sop       lor       gpa  \\\n",
              "gre           1.000000  0.507996    0.644019  0.593183  0.346053  0.832952   \n",
              "toefl         0.507996  1.000000    0.404389  0.383546  0.255659  0.505421   \n",
              "university    0.644019  0.404389    1.000000  0.724628  0.418527  0.715237   \n",
              "sop           0.593183  0.383546    0.724628  1.000000  0.462208  0.705539   \n",
              "lor           0.346053  0.255659    0.418527  0.462208  1.000000  0.438641   \n",
              "gpa           0.832952  0.505421    0.715237  0.705539  0.438641  1.000000   \n",
              "research      0.595042  0.299836    0.453374  0.439590  0.248810  0.533778   \n",
              "admit_chance  0.819237  0.469789    0.697429  0.674809  0.449975  0.880281   \n",
              "\n",
              "              research  admit_chance  \n",
              "gre           0.595042      0.819237  \n",
              "toefl         0.299836      0.469789  \n",
              "university    0.453374      0.697429  \n",
              "sop           0.439590      0.674809  \n",
              "lor           0.248810      0.449975  \n",
              "gpa           0.533778      0.880281  \n",
              "research      1.000000      0.566007  \n",
              "admit_chance  0.566007      1.000000  "
            ]
          },
          "metadata": {
            "tags": []
          },
          "execution_count": 33
        }
      ]
    },
    {
      "cell_type": "markdown",
      "metadata": {
        "id": "3909xNlxjjzp",
        "colab_type": "text"
      },
      "source": [
        "The correlation coefficients are all very high, especially 0.812519 from gre and 0.879971 from gpa. University and sop  are also very high, but all the other ones are a bit lower. This could be possibly because their scale is different, so in the preprocessing we will implement a standard scaler. \n",
        "\n",
        "The bottom line is every attribute has a very high correlation with admit_chance. Because of everything we found above, and the fact that the correlations are already very high, we believe there is no good reason to apply any transformations onto the data. "
      ]
    },
    {
      "cell_type": "markdown",
      "metadata": {
        "id": "mBLahH0QYDdg",
        "colab_type": "text"
      },
      "source": [
        "## 6. Study how you would solve the problem manually"
      ]
    },
    {
      "cell_type": "markdown",
      "metadata": {
        "id": "i_vvHgD4ZLCg",
        "colab_type": "text"
      },
      "source": [
        "The attributes with the highest correlation seem to be gre, gpa and university. To solve manually, you should look at these attributes and if they are above a certain value determined for the school, then they will likely have a high admit_chance. We could also try and find an earlier applicant who had similar scores to them in these metrics and see if they were accepted or not. "
      ]
    },
    {
      "cell_type": "markdown",
      "metadata": {
        "id": "UG7BB_sTYFVY",
        "colab_type": "text"
      },
      "source": [
        "##  7. Identify the promising transformations you may want to apply"
      ]
    },
    {
      "cell_type": "markdown",
      "metadata": {
        "id": "FnjIEue4mSmn",
        "colab_type": "text"
      },
      "source": [
        "As stated above, beyond a standard scaler and an imputer to fill in the misisng values, there are no transformations we would like to apply."
      ]
    },
    {
      "cell_type": "markdown",
      "metadata": {
        "id": "NmuMYmVeYGx6",
        "colab_type": "text"
      },
      "source": [
        "## 8. Identify extra data that would be useful\n"
      ]
    },
    {
      "cell_type": "markdown",
      "metadata": {
        "id": "GCQ1p9bSZsN1",
        "colab_type": "text"
      },
      "source": [
        "There is no extra data that we could manufacture from this such as new attributes that would help. However, there are a few things that could help if we were involved in the collection of data.\n",
        "\n",
        "The biggest thing thing that would help is getting more data. 900 values may seem like a large number of applicants, but in other models we have needed many many more than this. Another helpful attribute would possibly be some metric about the subject area the applicant is in because graduate school is more selective depending on the field of study. "
      ]
    },
    {
      "cell_type": "markdown",
      "metadata": {
        "id": "NE_AhDGgIK0-",
        "colab_type": "text"
      },
      "source": [
        "\n",
        "\n",
        "\n",
        "\n",
        "\n",
        "\n",
        "\n",
        "\n",
        "\n",
        "9.Document what you have learned"
      ]
    },
    {
      "cell_type": "markdown",
      "metadata": {
        "id": "uc128e5eMbb7",
        "colab_type": "text"
      },
      "source": [
        "## Summary\n",
        "-------\n"
      ]
    },
    {
      "cell_type": "markdown",
      "metadata": {
        "id": "b9UgZfsN-bB5",
        "colab_type": "text"
      },
      "source": [
        "**Extremely Important features:**\n",
        "* `gpa`\n",
        "* `gre`\n",
        "\n",
        "**Semi useful:**\n",
        "* `University`\n",
        "* `lor/log_lor`\n",
        "*  `sop`\n",
        "* `toefl`\n",
        "* `research`\n",
        "\n",
        "**Cleanup / Feature Extraction / Transforms:**\n",
        " * Fill in NaN values in attributes like `toefl` and `lor`\n",
        "* Standardize the data with a standard scaler\n",
        "\n",
        "Overall most attributes have very strong correlations to `admit_chance`. Hopefully the fact that there are such strong correlations will make up for the fact that there are not as many data values. "
      ]
    },
    {
      "cell_type": "markdown",
      "metadata": {
        "id": "1uefcoLvIWo0",
        "colab_type": "text"
      },
      "source": [
        "Prepare the Data\n",
        "====="
      ]
    },
    {
      "cell_type": "markdown",
      "metadata": {
        "id": "QWS_AK6hIX-3",
        "colab_type": "text"
      },
      "source": [
        "1.Data cleaning:Fix/remove outliers (optional); Fill in missing values (with 0, mean, median...) or drop rows/columns\n",
        "\n",
        "2.Feature selection (optional):Drop attributes that provide no useful information for the task\n",
        "\n",
        "3.Feature engineering, where appropriate:Discretize continuous features; Decompose features (categorical, date/time, ...), Add promising transformationsof features (log(x), √x, $x^2$, ...); Aggregate features into promising new features\n",
        "\n",
        "4.Feature scaling:standardize or normalize features"
      ]
    },
    {
      "cell_type": "code",
      "metadata": {
        "id": "bO3pKNt2v-Ja",
        "colab_type": "code",
        "colab": {}
      },
      "source": [
        "data, labels = split_labels(train_set, \"admit_chance\")\n",
        "preprocessor = create_preprocessor()\n",
        "data_prepped = preprocessor.fit_transform(data)"
      ],
      "execution_count": null,
      "outputs": []
    },
    {
      "cell_type": "code",
      "metadata": {
        "id": "swjZ1foJwZ0N",
        "colab_type": "code",
        "colab": {}
      },
      "source": [
        "pipeline = SupervisedPipeline(\n",
        "    RemoveBadData(), \n",
        "    \"admit_chance\",        # column with label\n",
        "    preprocessor,    # cleans data and extracts features\n",
        ")"
      ],
      "execution_count": null,
      "outputs": []
    },
    {
      "cell_type": "code",
      "metadata": {
        "id": "7wNKylDgl2z9",
        "colab_type": "code",
        "colab": {}
      },
      "source": [
        "pipeline.fit(train_set)\n",
        "X,y = pipeline.transform_xy(train_set)"
      ],
      "execution_count": null,
      "outputs": []
    },
    {
      "cell_type": "markdown",
      "metadata": {
        "id": "T8-f-ZErIjK3",
        "colab_type": "text"
      },
      "source": [
        "Short-List Promising Models\n",
        "======="
      ]
    },
    {
      "cell_type": "markdown",
      "metadata": {
        "id": "FNQqjmErIlJb",
        "colab_type": "text"
      },
      "source": [
        "1.Train many quick and dirty models from different categories (e.g. linear, naive Bayes, SVM, Random Forests, neural net, ...) using standard parameters\n",
        "\n",
        "2.Measure and comparetheir performance. For each model, use n-fold cross-validation and compute the mean and standard deviation of the performance measure on the nfolds.\n",
        "\n",
        "3.Analyze the most significant variables for each algorithm\n",
        "\n",
        "4.Analyze the types of errors the models make.What data would a human have used to avoid these errors?\n",
        "\n",
        "5.Have a quick round of feature selection and engineering\n",
        "\n",
        "6.Have one or two more quick iterations of the five previous steps\n",
        "\n",
        "7.Short-list the top three to five most promising models, preferring models that make different types of errors"
      ]
    },
    {
      "cell_type": "code",
      "metadata": {
        "id": "thdVpOsfnn2M",
        "colab_type": "code",
        "colab": {
          "base_uri": "https://localhost:8080/",
          "height": 68
        },
        "outputId": "03442239-617e-4577-e586-083280e73646"
      },
      "source": [
        "en_reg = ElasticNet()\n",
        "en_reg.fit(data_prepped, labels)"
      ],
      "execution_count": null,
      "outputs": [
        {
          "output_type": "execute_result",
          "data": {
            "text/plain": [
              "ElasticNet(alpha=1.0, copy_X=True, fit_intercept=True, l1_ratio=0.5,\n",
              "      max_iter=1000, normalize=False, positive=False, precompute=False,\n",
              "      random_state=None, selection='cyclic', tol=0.0001, warm_start=False)"
            ]
          },
          "metadata": {
            "tags": []
          },
          "execution_count": 42
        }
      ]
    },
    {
      "cell_type": "code",
      "metadata": {
        "id": "CnWwveAfn6Cg",
        "colab_type": "code",
        "colab": {
          "base_uri": "https://localhost:8080/",
          "height": 102
        },
        "outputId": "dea4aeec-317d-4f43-8905-0bf18d888151"
      },
      "source": [
        "dt_reg = DecisionTreeRegressor()\n",
        "dt_reg.fit(data_prepped, labels)\n",
        "get_error(dt_reg, data_prepped, labels)"
      ],
      "execution_count": null,
      "outputs": [
        {
          "output_type": "execute_result",
          "data": {
            "text/plain": [
              "(2.9836347275412064e-17,\n",
              " array([0.07048443, 0.04469029, 0.05708181, 0.05155903, 0.07897784,\n",
              "        0.05155903, 0.0702278 , 0.0505525 , 0.0666875 , 0.04826144]),\n",
              " 0.05900816844721015,\n",
              " 0.011054534054963145)"
            ]
          },
          "metadata": {
            "tags": []
          },
          "execution_count": 43
        }
      ]
    },
    {
      "cell_type": "code",
      "metadata": {
        "id": "Li3b-FHfn8Ja",
        "colab_type": "code",
        "colab": {
          "base_uri": "https://localhost:8080/",
          "height": 156
        },
        "outputId": "0157365b-9de8-4a87-97d5-31e7124ae6bd"
      },
      "source": [
        "rf_reg = RandomForestRegressor()\n",
        "rf_reg.fit(data_prepped, labels)\n",
        "get_error(rf_reg, data_prepped, labels)"
      ],
      "execution_count": null,
      "outputs": [
        {
          "output_type": "stream",
          "text": [
            "/usr/local/lib/python3.6/dist-packages/sklearn/ensemble/forest.py:246: FutureWarning: The default value of n_estimators will change from 10 in version 0.20 to 100 in 0.22.\n",
            "  \"10 in version 0.20 to 100 in 0.22.\", FutureWarning)\n"
          ],
          "name": "stderr"
        },
        {
          "output_type": "execute_result",
          "data": {
            "text/plain": [
              "(0.02070275746529111,\n",
              " array([0.059535  , 0.03706732, 0.04661962, 0.05106858, 0.05942549,\n",
              "        0.04709049, 0.06155418, 0.05232099, 0.05764728, 0.04364296]),\n",
              " 0.05159719064976711,\n",
              " 0.007617828164278409)"
            ]
          },
          "metadata": {
            "tags": []
          },
          "execution_count": 44
        }
      ]
    },
    {
      "cell_type": "code",
      "metadata": {
        "id": "8EO8f61Sn_RN",
        "colab_type": "code",
        "colab": {
          "base_uri": "https://localhost:8080/",
          "height": 173
        },
        "outputId": "bdb37e33-a2b4-41f1-a956-b85defa8c022"
      },
      "source": [
        "et_reg = ExtraTreesRegressor()\n",
        "et_reg.fit(data_prepped, labels)"
      ],
      "execution_count": null,
      "outputs": [
        {
          "output_type": "stream",
          "text": [
            "/usr/local/lib/python3.6/dist-packages/sklearn/ensemble/forest.py:246: FutureWarning: The default value of n_estimators will change from 10 in version 0.20 to 100 in 0.22.\n",
            "  \"10 in version 0.20 to 100 in 0.22.\", FutureWarning)\n"
          ],
          "name": "stderr"
        },
        {
          "output_type": "execute_result",
          "data": {
            "text/plain": [
              "ExtraTreesRegressor(bootstrap=False, criterion='mse', max_depth=None,\n",
              "          max_features='auto', max_leaf_nodes=None,\n",
              "          min_impurity_decrease=0.0, min_impurity_split=None,\n",
              "          min_samples_leaf=1, min_samples_split=2,\n",
              "          min_weight_fraction_leaf=0.0, n_estimators=10, n_jobs=None,\n",
              "          oob_score=False, random_state=None, verbose=0, warm_start=False)"
            ]
          },
          "metadata": {
            "tags": []
          },
          "execution_count": 45
        }
      ]
    },
    {
      "cell_type": "code",
      "metadata": {
        "id": "F6KVN6Ht1B4u",
        "colab_type": "code",
        "colab": {
          "base_uri": "https://localhost:8080/",
          "height": 119
        },
        "outputId": "12d8c1e5-3c4e-4a0c-9d3f-5d16ae4826ef"
      },
      "source": [
        "sgd_reg = SGDRegressor(max_iter=10, tol=0.19)\n",
        "sgd_reg.fit(data_prepped, labels)"
      ],
      "execution_count": null,
      "outputs": [
        {
          "output_type": "execute_result",
          "data": {
            "text/plain": [
              "SGDRegressor(alpha=0.0001, average=False, early_stopping=False, epsilon=0.1,\n",
              "       eta0=0.01, fit_intercept=True, l1_ratio=0.15,\n",
              "       learning_rate='invscaling', loss='squared_loss', max_iter=10,\n",
              "       n_iter=None, n_iter_no_change=5, penalty='l2', power_t=0.25,\n",
              "       random_state=None, shuffle=True, tol=0.19, validation_fraction=0.1,\n",
              "       verbose=0, warm_start=False)"
            ]
          },
          "metadata": {
            "tags": []
          },
          "execution_count": 46
        }
      ]
    },
    {
      "cell_type": "code",
      "metadata": {
        "id": "YpG2q0gK3xs5",
        "colab_type": "code",
        "colab": {
          "base_uri": "https://localhost:8080/",
          "height": 119
        },
        "outputId": "bd6e8c75-0203-4d90-9405-cf2c6b53bf85"
      },
      "source": [
        "sgd_reg.get_params"
      ],
      "execution_count": null,
      "outputs": [
        {
          "output_type": "execute_result",
          "data": {
            "text/plain": [
              "<bound method BaseEstimator.get_params of SGDRegressor(alpha=0.0001, average=False, early_stopping=False, epsilon=0.1,\n",
              "       eta0=0.01, fit_intercept=True, l1_ratio=0.15,\n",
              "       learning_rate='invscaling', loss='squared_loss', max_iter=10,\n",
              "       n_iter=None, n_iter_no_change=5, penalty='l2', power_t=0.25,\n",
              "       random_state=None, shuffle=True, tol=0.19, validation_fraction=0.1,\n",
              "       verbose=0, warm_start=False)>"
            ]
          },
          "metadata": {
            "tags": []
          },
          "execution_count": 47
        }
      ]
    },
    {
      "cell_type": "markdown",
      "metadata": {
        "id": "-S97goibIx7j",
        "colab_type": "text"
      },
      "source": [
        "Fine-Tune the System\n",
        "========"
      ]
    },
    {
      "cell_type": "markdown",
      "metadata": {
        "id": "Hgce0zpII0pC",
        "colab_type": "text"
      },
      "source": [
        "1.Fine-tune the hyperparameters using cross-validation. Treat your data transformation choices as hyperparameters, especially when you are not sure about them. Unless there are very few hyperparameter values to explore, prefer random search over grid search. If training is very long, you may prefer a Bayesian optimization approach.\n",
        "\n",
        "2.Try Ensemble methods. Combining your best models will often perform better than running them individually.\n",
        "\n",
        "3.Once you are confident about your final model, measure its performance on the test set to estimate the generalization error."
      ]
    },
    {
      "cell_type": "code",
      "metadata": {
        "id": "bKFnDZDZ3nS_",
        "colab_type": "code",
        "colab": {
          "base_uri": "https://localhost:8080/",
          "height": 204
        },
        "outputId": "fa5f67c7-39e8-4017-922e-913829064ae8"
      },
      "source": [
        "pipeline = SupervisedPipeline(RemoveBadData(), \"admit_chance\", preprocessor, dt_reg)\n",
        "\n",
        "param_grid = {'estimator__max_depth': [5, 10, 15],\n",
        "    'estimator__min_samples_leaf': [5, 10, 20]\n",
        "}\n",
        "\n",
        "dt_opt = GridSearchCV(pipeline, param_grid, cv=2)\n",
        "dt_opt.fit(*pipeline.split_xy(train_set)) # magic here!"
      ],
      "execution_count": null,
      "outputs": [
        {
          "output_type": "execute_result",
          "data": {
            "text/plain": [
              "GridSearchCV(cv=2, error_score='raise-deprecating',\n",
              "       estimator=SupervisedPipeline(estimator=DecisionTreeRegressor(criterion='mse', max_depth=None, max_features=None,\n",
              "           max_leaf_nodes=None, min_impurity_decrease=0.0,\n",
              "           min_impurity_split=None, min_samples_leaf=1,\n",
              "           min_samples_split=2, min_weight_fraction_leaf=0.0,\n",
              "          ...      n_values=None, sparse=True))]), ['research'])]),\n",
              "          train_preprocessor=RemoveBadData()),\n",
              "       fit_params=None, iid='warn', n_jobs=None,\n",
              "       param_grid={'estimator__max_depth': [5, 10, 15], 'estimator__min_samples_leaf': [5, 10, 20]},\n",
              "       pre_dispatch='2*n_jobs', refit=True, return_train_score='warn',\n",
              "       scoring=None, verbose=0)"
            ]
          },
          "metadata": {
            "tags": []
          },
          "execution_count": 48
        }
      ]
    },
    {
      "cell_type": "code",
      "metadata": {
        "id": "k8u_8iYD4R5Q",
        "colab_type": "code",
        "colab": {
          "base_uri": "https://localhost:8080/",
          "height": 34
        },
        "outputId": "89cbd708-dd38-404f-fbe2-9c5950201b64"
      },
      "source": [
        "dt_opt.best_params_"
      ],
      "execution_count": null,
      "outputs": [
        {
          "output_type": "execute_result",
          "data": {
            "text/plain": [
              "{'estimator__max_depth': 5, 'estimator__min_samples_leaf': 5}"
            ]
          },
          "metadata": {
            "tags": []
          },
          "execution_count": 49
        }
      ]
    },
    {
      "cell_type": "code",
      "metadata": {
        "id": "Cyy9MnWR4Xxm",
        "colab_type": "code",
        "colab": {
          "base_uri": "https://localhost:8080/",
          "height": 224
        },
        "outputId": "5d16f196-b052-41d1-9062-02cc56c6ad2d"
      },
      "source": [
        "pipeline = SupervisedPipeline(RemoveBadData(), \"admit_chance\", preprocessor, dt_reg)\n",
        "\n",
        "param_grid = {'estimator__max_depth': [1, 2, 3, 4, 5, 6, 7, 8, 9],\n",
        "    'estimator__min_samples_leaf': [6, 7, 8, 9, 10, 11, 12, 13, 14, 15, 16, 17, 18, 19, 20]       \n",
        "}\n",
        "\n",
        "dt_opt = GridSearchCV(pipeline, param_grid, cv=2)\n",
        "dt_opt.fit(*pipeline.split_xy(train_set)) # magic here!"
      ],
      "execution_count": null,
      "outputs": [
        {
          "output_type": "execute_result",
          "data": {
            "text/plain": [
              "GridSearchCV(cv=2, error_score='raise-deprecating',\n",
              "       estimator=SupervisedPipeline(estimator=DecisionTreeRegressor(criterion='mse', max_depth=None, max_features=None,\n",
              "           max_leaf_nodes=None, min_impurity_decrease=0.0,\n",
              "           min_impurity_split=None, min_samples_leaf=1,\n",
              "           min_samples_split=2, min_weight_fraction_leaf=0.0,\n",
              "          ...      n_values=None, sparse=True))]), ['research'])]),\n",
              "          train_preprocessor=RemoveBadData()),\n",
              "       fit_params=None, iid='warn', n_jobs=None,\n",
              "       param_grid={'estimator__max_depth': [1, 2, 3, 4, 5, 6, 7, 8, 9], 'estimator__min_samples_leaf': [6, 7, 8, 9, 10, 11, 12, 13, 14, 15, 16, 17, 18, 19, 20]},\n",
              "       pre_dispatch='2*n_jobs', refit=True, return_train_score='warn',\n",
              "       scoring=None, verbose=0)"
            ]
          },
          "metadata": {
            "tags": []
          },
          "execution_count": 50
        }
      ]
    },
    {
      "cell_type": "code",
      "metadata": {
        "id": "YqiWNIJwG1rS",
        "colab_type": "code",
        "colab": {
          "base_uri": "https://localhost:8080/",
          "height": 224
        },
        "outputId": "dd48414a-0489-49fe-e99c-3d6ccc54e937"
      },
      "source": [
        "pipeline = SupervisedPipeline(RemoveBadData(), \"admit_chance\", preprocessor, rf_reg)\n",
        "\n",
        "param_grid = {'estimator__max_depth': [1, 2, 3, 4, 5, 6, 7, 8, 9, 10],\n",
        "    'estimator__min_samples_leaf': [6, 7, 8, 9, 10, 11, 12, 13, 14, 15, 16, 17, 18, 19, 20]       \n",
        "}\n",
        "\n",
        "rf_opt = GridSearchCV(pipeline, param_grid, cv=2)\n",
        "rf_opt.fit(*pipeline.split_xy(train_set)) # magic here!"
      ],
      "execution_count": null,
      "outputs": [
        {
          "output_type": "execute_result",
          "data": {
            "text/plain": [
              "GridSearchCV(cv=2, error_score='raise-deprecating',\n",
              "       estimator=SupervisedPipeline(estimator=RandomForestRegressor(bootstrap=True, criterion='mse', max_depth=None,\n",
              "           max_features='auto', max_leaf_nodes=None,\n",
              "           min_impurity_decrease=0.0, min_impurity_split=None,\n",
              "           min_samples_leaf=1, min_samples_split=2,\n",
              "           min_weight_...      n_values=None, sparse=True))]), ['research'])]),\n",
              "          train_preprocessor=RemoveBadData()),\n",
              "       fit_params=None, iid='warn', n_jobs=None,\n",
              "       param_grid={'estimator__max_depth': [1, 2, 3, 4, 5, 6, 7, 8, 9, 10], 'estimator__min_samples_leaf': [6, 7, 8, 9, 10, 11, 12, 13, 14, 15, 16, 17, 18, 19, 20]},\n",
              "       pre_dispatch='2*n_jobs', refit=True, return_train_score='warn',\n",
              "       scoring=None, verbose=0)"
            ]
          },
          "metadata": {
            "tags": []
          },
          "execution_count": 51
        }
      ]
    },
    {
      "cell_type": "code",
      "metadata": {
        "id": "zShoWsIJG76l",
        "colab_type": "code",
        "colab": {
          "base_uri": "https://localhost:8080/",
          "height": 34
        },
        "outputId": "8e0532f7-7e16-4ece-cc09-9e51923bc7f1"
      },
      "source": [
        "rf_opt.best_params_"
      ],
      "execution_count": null,
      "outputs": [
        {
          "output_type": "execute_result",
          "data": {
            "text/plain": [
              "{'estimator__max_depth': 10, 'estimator__min_samples_leaf': 7}"
            ]
          },
          "metadata": {
            "tags": []
          },
          "execution_count": 52
        }
      ]
    },
    {
      "cell_type": "code",
      "metadata": {
        "id": "Y6mV4tUF4kax",
        "colab_type": "code",
        "colab": {
          "base_uri": "https://localhost:8080/",
          "height": 34
        },
        "outputId": "64aba54e-a2be-4334-c827-3bd7546169b5"
      },
      "source": [
        "dt_opt.best_params_"
      ],
      "execution_count": null,
      "outputs": [
        {
          "output_type": "execute_result",
          "data": {
            "text/plain": [
              "{'estimator__max_depth': 8, 'estimator__min_samples_leaf': 13}"
            ]
          },
          "metadata": {
            "tags": []
          },
          "execution_count": 53
        }
      ]
    },
    {
      "cell_type": "code",
      "metadata": {
        "id": "nQJLRgPCDdmP",
        "colab_type": "code",
        "colab": {
          "base_uri": "https://localhost:8080/",
          "height": 102
        },
        "outputId": "2164cfb9-6cd1-4364-90e1-dc06cca538a7"
      },
      "source": [
        "dt_reg_pg = DecisionTreeRegressor(max_depth=5, min_samples_leaf=5) # pg meaning post grid\n",
        "dt_reg_pg.fit(data_prepped, labels)"
      ],
      "execution_count": null,
      "outputs": [
        {
          "output_type": "execute_result",
          "data": {
            "text/plain": [
              "DecisionTreeRegressor(criterion='mse', max_depth=5, max_features=None,\n",
              "           max_leaf_nodes=None, min_impurity_decrease=0.0,\n",
              "           min_impurity_split=None, min_samples_leaf=5,\n",
              "           min_samples_split=2, min_weight_fraction_leaf=0.0,\n",
              "           presort=False, random_state=None, splitter='best')"
            ]
          },
          "metadata": {
            "tags": []
          },
          "execution_count": 54
        }
      ]
    },
    {
      "cell_type": "code",
      "metadata": {
        "id": "suzgSteA4qjO",
        "colab_type": "code",
        "colab": {
          "base_uri": "https://localhost:8080/",
          "height": 173
        },
        "outputId": "f7e0284e-e73d-4b6e-ee23-63ee3f61a003"
      },
      "source": [
        "rf_reg = RandomForestRegressor(max_depth=4, min_samples_leaf=9)\n",
        "rf_reg.fit(data_prepped, labels)"
      ],
      "execution_count": null,
      "outputs": [
        {
          "output_type": "stream",
          "text": [
            "/usr/local/lib/python3.6/dist-packages/sklearn/ensemble/forest.py:246: FutureWarning: The default value of n_estimators will change from 10 in version 0.20 to 100 in 0.22.\n",
            "  \"10 in version 0.20 to 100 in 0.22.\", FutureWarning)\n"
          ],
          "name": "stderr"
        },
        {
          "output_type": "execute_result",
          "data": {
            "text/plain": [
              "RandomForestRegressor(bootstrap=True, criterion='mse', max_depth=4,\n",
              "           max_features='auto', max_leaf_nodes=None,\n",
              "           min_impurity_decrease=0.0, min_impurity_split=None,\n",
              "           min_samples_leaf=9, min_samples_split=2,\n",
              "           min_weight_fraction_leaf=0.0, n_estimators=10, n_jobs=None,\n",
              "           oob_score=False, random_state=None, verbose=0, warm_start=False)"
            ]
          },
          "metadata": {
            "tags": []
          },
          "execution_count": 55
        }
      ]
    },
    {
      "cell_type": "markdown",
      "metadata": {
        "id": "dT95d88lMEgN",
        "colab_type": "text"
      },
      "source": [
        "# Scoring\n",
        "\n",
        "We used Root Mean Squared Error for all of our models to determine our best model. Below are all the scores for each model."
      ]
    },
    {
      "cell_type": "markdown",
      "metadata": {
        "id": "UJImRpV-P1Ro",
        "colab_type": "text"
      },
      "source": [
        "SGD Regression\n",
        "-----"
      ]
    },
    {
      "cell_type": "code",
      "metadata": {
        "id": "_1E0T_ipQ6O9",
        "colab_type": "code",
        "colab": {
          "base_uri": "https://localhost:8080/",
          "height": 102
        },
        "outputId": "c88598f7-34dd-4664-f794-ce443b45076e"
      },
      "source": [
        "get_error(sgd_reg, data_prepped, labels)"
      ],
      "execution_count": null,
      "outputs": [
        {
          "output_type": "execute_result",
          "data": {
            "text/plain": [
              "(0.06120132444860641,\n",
              " array([0.07413416, 0.05855965, 0.06447222, 0.06187671, 0.06491677,\n",
              "        0.04978153, 0.05677789, 0.06985844, 0.06827839, 0.04791303]),\n",
              " 0.06165687976286527,\n",
              " 0.008054243822354073)"
            ]
          },
          "metadata": {
            "tags": []
          },
          "execution_count": 56
        }
      ]
    },
    {
      "cell_type": "markdown",
      "metadata": {
        "id": "wWK0GCOmQWiJ",
        "colab_type": "text"
      },
      "source": [
        "Random Forest\n",
        "------"
      ]
    },
    {
      "cell_type": "code",
      "metadata": {
        "id": "Tt4Mz-r2QYbd",
        "colab_type": "code",
        "colab": {
          "base_uri": "https://localhost:8080/",
          "height": 102
        },
        "outputId": "1a7ea064-d3dd-496d-f615-40d6f9f84b91"
      },
      "source": [
        "get_error(rf_reg, data_prepped, labels)"
      ],
      "execution_count": null,
      "outputs": [
        {
          "output_type": "execute_result",
          "data": {
            "text/plain": [
              "(0.05744875586802653,\n",
              " array([0.07506548, 0.05910978, 0.062563  , 0.05854526, 0.06808524,\n",
              "        0.04731919, 0.059144  , 0.0636004 , 0.07001636, 0.05166814]),\n",
              " 0.06151168481962701,\n",
              " 0.00789437453235295)"
            ]
          },
          "metadata": {
            "tags": []
          },
          "execution_count": 57
        }
      ]
    },
    {
      "cell_type": "markdown",
      "metadata": {
        "id": "i3F9gWUpRErZ",
        "colab_type": "text"
      },
      "source": [
        "Decision Tree\n",
        "-------"
      ]
    },
    {
      "cell_type": "code",
      "metadata": {
        "id": "GND3IqRrRIDK",
        "colab_type": "code",
        "colab": {
          "base_uri": "https://localhost:8080/",
          "height": 102
        },
        "outputId": "1427f996-21f3-4280-ffcd-920392c6a976"
      },
      "source": [
        "get_error(dt_reg_pg, data_prepped, labels)"
      ],
      "execution_count": null,
      "outputs": [
        {
          "output_type": "execute_result",
          "data": {
            "text/plain": [
              "(0.05496472456072892,\n",
              " array([0.0718837 , 0.05659094, 0.07022432, 0.05615711, 0.06446719,\n",
              "        0.04774822, 0.06332771, 0.06396908, 0.07020669, 0.04802439]),\n",
              " 0.06125993491599219,\n",
              " 0.008371111016008759)"
            ]
          },
          "metadata": {
            "tags": []
          },
          "execution_count": 58
        }
      ]
    },
    {
      "cell_type": "markdown",
      "metadata": {
        "id": "j_M8j5yCROn7",
        "colab_type": "text"
      },
      "source": [
        "Extra Trees\n",
        "-------"
      ]
    },
    {
      "cell_type": "code",
      "metadata": {
        "id": "osNYu55KRQf1",
        "colab_type": "code",
        "colab": {
          "base_uri": "https://localhost:8080/",
          "height": 102
        },
        "outputId": "da92e485-58d0-4201-ff38-d01130abfdb2"
      },
      "source": [
        "get_error(et_reg, data_prepped, labels)"
      ],
      "execution_count": null,
      "outputs": [
        {
          "output_type": "execute_result",
          "data": {
            "text/plain": [
              "(1.0530468477399103e-16,\n",
              " array([0.05408712, 0.04068511, 0.03425051, 0.03710907, 0.05625068,\n",
              "        0.05701352, 0.04918954, 0.04881854, 0.04977198, 0.03480022]),\n",
              " 0.046197629516703045,\n",
              " 0.008333741612245354)"
            ]
          },
          "metadata": {
            "tags": []
          },
          "execution_count": 59
        }
      ]
    },
    {
      "cell_type": "markdown",
      "metadata": {
        "id": "4izokGxSRaYl",
        "colab_type": "text"
      },
      "source": [
        "Elastic Net\n",
        "-------"
      ]
    },
    {
      "cell_type": "code",
      "metadata": {
        "id": "kyqQbkfQRcJn",
        "colab_type": "code",
        "colab": {
          "base_uri": "https://localhost:8080/",
          "height": 102
        },
        "outputId": "c75848b9-ba83-4d21-ff8d-362623748441"
      },
      "source": [
        "get_error(en_reg, data_prepped, labels)"
      ],
      "execution_count": null,
      "outputs": [
        {
          "output_type": "execute_result",
          "data": {
            "text/plain": [
              "(0.1422652217712301,\n",
              " array([0.15225668, 0.14076977, 0.12742942, 0.13693114, 0.1405414 ,\n",
              "        0.13855618, 0.13648531, 0.1555877 , 0.15176584, 0.14244124]),\n",
              " 0.1422764693319751,\n",
              " 0.008176396369625246)"
            ]
          },
          "metadata": {
            "tags": []
          },
          "execution_count": 60
        }
      ]
    },
    {
      "cell_type": "markdown",
      "metadata": {
        "id": "MHAclVYVq9XR",
        "colab_type": "text"
      },
      "source": [
        "# Review of Scores\n",
        "\n",
        "Based on our scoring results we noticed that our Extra Trees Model seems to be overfitting the training set. The other models don't seem to be over or underfitting on the training set. Our best overall model, based on average RMSE, is the Extra Trees model even though it is overfitting. To correct for this we plan to run a Grid Search in hopes of finding better parameters to use on the model for future."
      ]
    },
    {
      "cell_type": "markdown",
      "metadata": {
        "id": "mK9UPMNSweLQ",
        "colab_type": "text"
      },
      "source": [
        "Below is a few grid searches to find the best parameters for our extra trees model which will increase regularization and decrease overfitting."
      ]
    },
    {
      "cell_type": "code",
      "metadata": {
        "id": "HcvKcymCvvBW",
        "colab_type": "code",
        "colab": {
          "base_uri": "https://localhost:8080/",
          "height": 224
        },
        "outputId": "97a4800c-f9cf-49d4-fca0-b4c391357ca0"
      },
      "source": [
        "pipeline = SupervisedPipeline(RemoveBadData(), \"admit_chance\", preprocessor, et_reg)\n",
        "\n",
        "param_grid = {'estimator__max_depth': [1, 2, 3, 4, 5, 6, 7, 8, 9, 10],\n",
        "    'estimator__min_samples_leaf': [6, 7, 8, 9, 10, 11, 12, 13, 14, 15, 16, 17, 18, 19, 20]       \n",
        "}\n",
        "\n",
        "et_opt = GridSearchCV(pipeline, param_grid, cv=2)\n",
        "et_opt.fit(*pipeline.split_xy(train_set)) # magic here!"
      ],
      "execution_count": null,
      "outputs": [
        {
          "output_type": "execute_result",
          "data": {
            "text/plain": [
              "GridSearchCV(cv=2, error_score='raise-deprecating',\n",
              "       estimator=SupervisedPipeline(estimator=ExtraTreesRegressor(bootstrap=False, criterion='mse', max_depth=None,\n",
              "          max_features='auto', max_leaf_nodes=None,\n",
              "          min_impurity_decrease=0.0, min_impurity_split=None,\n",
              "          min_samples_leaf=1, min_samples_split=2,\n",
              "          min_weight_fract...      n_values=None, sparse=True))]), ['research'])]),\n",
              "          train_preprocessor=RemoveBadData()),\n",
              "       fit_params=None, iid='warn', n_jobs=None,\n",
              "       param_grid={'estimator__max_depth': [1, 2, 3, 4, 5, 6, 7, 8, 9, 10], 'estimator__min_samples_leaf': [6, 7, 8, 9, 10, 11, 12, 13, 14, 15, 16, 17, 18, 19, 20]},\n",
              "       pre_dispatch='2*n_jobs', refit=True, return_train_score='warn',\n",
              "       scoring=None, verbose=0)"
            ]
          },
          "metadata": {
            "tags": []
          },
          "execution_count": 61
        }
      ]
    },
    {
      "cell_type": "code",
      "metadata": {
        "id": "yhiPJyInvxIh",
        "colab_type": "code",
        "colab": {
          "base_uri": "https://localhost:8080/",
          "height": 34
        },
        "outputId": "a769612f-b481-4678-be3a-bba915c69709"
      },
      "source": [
        "et_opt.best_params_"
      ],
      "execution_count": null,
      "outputs": [
        {
          "output_type": "execute_result",
          "data": {
            "text/plain": [
              "{'estimator__max_depth': 6, 'estimator__min_samples_leaf': 8}"
            ]
          },
          "metadata": {
            "tags": []
          },
          "execution_count": 62
        }
      ]
    },
    {
      "cell_type": "code",
      "metadata": {
        "id": "AEqx0415vy83",
        "colab_type": "code",
        "colab": {
          "base_uri": "https://localhost:8080/",
          "height": 204
        },
        "outputId": "f8b44e27-799e-413b-c9a6-9a4bd420ce51"
      },
      "source": [
        "pipeline = SupervisedPipeline(RemoveBadData(), \"admit_chance\", preprocessor, et_reg)\n",
        "\n",
        "param_grid = {'estimator__max_depth': [8, 9, 10, 11, 12, 13, 14, 15],\n",
        "    'estimator__min_samples_leaf': [2, 3, 4, 5, 6, 7, 8, 9, 10]       \n",
        "}\n",
        "\n",
        "et_opt = GridSearchCV(pipeline, param_grid, cv=2)\n",
        "et_opt.fit(*pipeline.split_xy(train_set)) # magic here!"
      ],
      "execution_count": null,
      "outputs": [
        {
          "output_type": "execute_result",
          "data": {
            "text/plain": [
              "GridSearchCV(cv=2, error_score='raise-deprecating',\n",
              "       estimator=SupervisedPipeline(estimator=ExtraTreesRegressor(bootstrap=False, criterion='mse', max_depth=None,\n",
              "          max_features='auto', max_leaf_nodes=None,\n",
              "          min_impurity_decrease=0.0, min_impurity_split=None,\n",
              "          min_samples_leaf=1, min_samples_split=2,\n",
              "          min_weight_fract...      n_values=None, sparse=True))]), ['research'])]),\n",
              "          train_preprocessor=RemoveBadData()),\n",
              "       fit_params=None, iid='warn', n_jobs=None,\n",
              "       param_grid={'estimator__max_depth': [8, 9, 10, 11, 12, 13, 14, 15], 'estimator__min_samples_leaf': [2, 3, 4, 5, 6, 7, 8, 9, 10]},\n",
              "       pre_dispatch='2*n_jobs', refit=True, return_train_score='warn',\n",
              "       scoring=None, verbose=0)"
            ]
          },
          "metadata": {
            "tags": []
          },
          "execution_count": 63
        }
      ]
    },
    {
      "cell_type": "code",
      "metadata": {
        "id": "Zzp5OjUIv01t",
        "colab_type": "code",
        "colab": {
          "base_uri": "https://localhost:8080/",
          "height": 34
        },
        "outputId": "b3cc973e-225c-4ef9-b032-615544dbc761"
      },
      "source": [
        "et_opt.best_params_"
      ],
      "execution_count": null,
      "outputs": [
        {
          "output_type": "execute_result",
          "data": {
            "text/plain": [
              "{'estimator__max_depth': 12, 'estimator__min_samples_leaf': 2}"
            ]
          },
          "metadata": {
            "tags": []
          },
          "execution_count": 64
        }
      ]
    },
    {
      "cell_type": "code",
      "metadata": {
        "id": "ktwnTDs8v2zG",
        "colab_type": "code",
        "colab": {
          "base_uri": "https://localhost:8080/",
          "height": 204
        },
        "outputId": "0ddc8366-0fa3-4b74-c9f0-0d5b1b877157"
      },
      "source": [
        "pipeline = SupervisedPipeline(RemoveBadData(), \"admit_chance\", preprocessor, et_reg)\n",
        "\n",
        "param_grid = {'estimator__max_depth': [8, 9, 10, 11, 12, 13, 14, 15],\n",
        "    'estimator__min_samples_leaf': [1, 2, 3, 4, 5, 6]       \n",
        "}\n",
        "\n",
        "et_opt = GridSearchCV(pipeline, param_grid, cv=2)\n",
        "et_opt.fit(*pipeline.split_xy(train_set)) # magic here!"
      ],
      "execution_count": null,
      "outputs": [
        {
          "output_type": "execute_result",
          "data": {
            "text/plain": [
              "GridSearchCV(cv=2, error_score='raise-deprecating',\n",
              "       estimator=SupervisedPipeline(estimator=ExtraTreesRegressor(bootstrap=False, criterion='mse', max_depth=None,\n",
              "          max_features='auto', max_leaf_nodes=None,\n",
              "          min_impurity_decrease=0.0, min_impurity_split=None,\n",
              "          min_samples_leaf=1, min_samples_split=2,\n",
              "          min_weight_fract...      n_values=None, sparse=True))]), ['research'])]),\n",
              "          train_preprocessor=RemoveBadData()),\n",
              "       fit_params=None, iid='warn', n_jobs=None,\n",
              "       param_grid={'estimator__max_depth': [8, 9, 10, 11, 12, 13, 14, 15], 'estimator__min_samples_leaf': [1, 2, 3, 4, 5, 6]},\n",
              "       pre_dispatch='2*n_jobs', refit=True, return_train_score='warn',\n",
              "       scoring=None, verbose=0)"
            ]
          },
          "metadata": {
            "tags": []
          },
          "execution_count": 65
        }
      ]
    },
    {
      "cell_type": "code",
      "metadata": {
        "id": "mG1X6slZv43g",
        "colab_type": "code",
        "colab": {
          "base_uri": "https://localhost:8080/",
          "height": 34
        },
        "outputId": "2dad8346-09d2-4eb3-e540-4994c0c3753c"
      },
      "source": [
        "et_opt.best_params_"
      ],
      "execution_count": null,
      "outputs": [
        {
          "output_type": "execute_result",
          "data": {
            "text/plain": [
              "{'estimator__max_depth': 14, 'estimator__min_samples_leaf': 1}"
            ]
          },
          "metadata": {
            "tags": []
          },
          "execution_count": 66
        }
      ]
    },
    {
      "cell_type": "code",
      "metadata": {
        "id": "ol5znXIMv6x3",
        "colab_type": "code",
        "colab": {
          "base_uri": "https://localhost:8080/",
          "height": 173
        },
        "outputId": "b362ca0d-e5a9-4003-eca5-3e4f7e904aa6"
      },
      "source": [
        "et_reg_pg = ExtraTreesRegressor(max_depth=11, min_samples_leaf=2)\n",
        "et_reg_pg.fit(data_prepped, labels)"
      ],
      "execution_count": null,
      "outputs": [
        {
          "output_type": "stream",
          "text": [
            "/usr/local/lib/python3.6/dist-packages/sklearn/ensemble/forest.py:246: FutureWarning: The default value of n_estimators will change from 10 in version 0.20 to 100 in 0.22.\n",
            "  \"10 in version 0.20 to 100 in 0.22.\", FutureWarning)\n"
          ],
          "name": "stderr"
        },
        {
          "output_type": "execute_result",
          "data": {
            "text/plain": [
              "ExtraTreesRegressor(bootstrap=False, criterion='mse', max_depth=11,\n",
              "          max_features='auto', max_leaf_nodes=None,\n",
              "          min_impurity_decrease=0.0, min_impurity_split=None,\n",
              "          min_samples_leaf=2, min_samples_split=2,\n",
              "          min_weight_fraction_leaf=0.0, n_estimators=10, n_jobs=None,\n",
              "          oob_score=False, random_state=None, verbose=0, warm_start=False)"
            ]
          },
          "metadata": {
            "tags": []
          },
          "execution_count": 67
        }
      ]
    },
    {
      "cell_type": "code",
      "metadata": {
        "id": "kB65CWqLv8Zv",
        "colab_type": "code",
        "colab": {
          "base_uri": "https://localhost:8080/",
          "height": 102
        },
        "outputId": "641c8f52-278a-48b1-d5b5-66ba036e42d2"
      },
      "source": [
        "get_error(et_reg_pg, data_prepped, labels)"
      ],
      "execution_count": null,
      "outputs": [
        {
          "output_type": "execute_result",
          "data": {
            "text/plain": [
              "(0.021032916631339046,\n",
              " array([0.06120638, 0.04568923, 0.04572392, 0.04433356, 0.0580488 ,\n",
              "        0.05188652, 0.05940007, 0.05282628, 0.05505775, 0.04233869]),\n",
              " 0.05165112092963411,\n",
              " 0.00645186141059821)"
            ]
          },
          "metadata": {
            "tags": []
          },
          "execution_count": 68
        }
      ]
    },
    {
      "cell_type": "markdown",
      "metadata": {
        "id": "6UJ_fjLDwsG2",
        "colab_type": "text"
      },
      "source": [
        "With a 0.02 rmse on the training set and an average of 0.04 on the cross val scores, this model is no longer overfitting as much as before. This is our final model."
      ]
    },
    {
      "cell_type": "markdown",
      "metadata": {
        "id": "s9Lp4pkIxOne",
        "colab_type": "text"
      },
      "source": [
        "Extra trees is an ensemble regressor and because of this tends to be more accurate than single regressors and does not overfit as much. With our final model, we can now test on our testing data."
      ]
    },
    {
      "cell_type": "code",
      "metadata": {
        "id": "A-5fFevZxczi",
        "colab_type": "code",
        "colab": {}
      },
      "source": [
        "data, labels = split_labels(test_set, \"admit_chance\")\n",
        "preprocessor = create_preprocessor()\n",
        "data_prepped = preprocessor.fit_transform(data)\n",
        "\n",
        "\n",
        "pipeline.fit(test_set)\n",
        "X,y = pipeline.transform_xy(test_set)\n",
        "\n",
        "X_test, y_test = pipeline.split_xy(test_set)\n",
        "y_pred = et_reg_pg.predict(data_prepped)\n",
        "training_error, cross_val_scores, mean_cross_val_score, std_dev_score = get_error(et_reg_pg, data_prepped, labels)"
      ],
      "execution_count": null,
      "outputs": []
    },
    {
      "cell_type": "code",
      "metadata": {
        "id": "LWpA10svx8wU",
        "colab_type": "code",
        "colab": {
          "base_uri": "https://localhost:8080/",
          "height": 34
        },
        "outputId": "62fe05ab-27f0-4b00-9509-76304dde8ab2"
      },
      "source": [
        ""
      ],
      "execution_count": null,
      "outputs": [
        {
          "output_type": "execute_result",
          "data": {
            "text/plain": [
              "0.0728206986272174"
            ]
          },
          "metadata": {
            "tags": []
          },
          "execution_count": 72
        }
      ]
    },
    {
      "cell_type": "markdown",
      "metadata": {
        "id": "G4gB4lPgI5ar",
        "colab_type": "text"
      },
      "source": [
        "Present Your Solution\n",
        "======"
      ]
    },
    {
      "cell_type": "markdown",
      "metadata": {
        "id": "3AWijmj0I8d3",
        "colab_type": "text"
      },
      "source": [
        "1.Document what you have done\n",
        "\n",
        "2.Create a nice presentation, highlightingthe big picture first\n",
        "\n",
        "3.Explain why your solution achieves the business objective\n",
        "\n",
        "4.Don’t forget to present interesting points you noticed along the way: Describe what worked and what did not; List your assumptions and your system’s limitations\n",
        "\n",
        "5.Ensure your key findings are communicated through beautiful visualizations or easy-to-remember statements (e.g. “the median income is the number-one predictor of housing prices”)"
      ]
    },
    {
      "cell_type": "markdown",
      "metadata": {
        "id": "gRAQXELbz5w9",
        "colab_type": "text"
      },
      "source": [
        "# Documentation"
      ]
    },
    {
      "cell_type": "markdown",
      "metadata": {
        "id": "w7NXM-UoxuJK",
        "colab_type": "text"
      },
      "source": [
        "After examining the data and the correlations between each column, we realized that there are already very good correlations between GPA, GRE, and Admittance Chance. Once we documented that, we decided against transforming the data in any way. For preprocessing we used a standard scaler to make the data on the same scale and an imputer to fill in the missing values in attributes such as toefl and research.\n",
        "\n",
        "When it came to training, we found that the Extra Trees Regressor was the best in terms of creating great results. The overall score of that test had a root mean squared error value of around .04 and this is great for our client since this low error will allow them to make more money using our technology.\n"
      ]
    },
    {
      "cell_type": "markdown",
      "metadata": {
        "id": "_2S3Avsuz-wx",
        "colab_type": "text"
      },
      "source": [
        "# Presentation"
      ]
    },
    {
      "cell_type": "code",
      "metadata": {
        "id": "bxy-Q2nZHjaE",
        "colab_type": "code",
        "colab": {
          "base_uri": "https://localhost:8080/",
          "height": 34
        },
        "outputId": "d51d57fc-ecf9-4e74-9f32-8014e69d2788"
      },
      "source": [
        "print(\"Mean Root Mean Squared Error :\",mean_cross_val_score)"
      ],
      "execution_count": null,
      "outputs": [
        {
          "output_type": "stream",
          "text": [
            "Mean Root Mean Squared Error : 0.0646932186817003\n"
          ],
          "name": "stdout"
        }
      ]
    },
    {
      "cell_type": "markdown",
      "metadata": {
        "id": "_OjvBuqB0IUS",
        "colab_type": "text"
      },
      "source": [
        "The above scores show the accuracy in the final product using the Extra Trees Regressor model. Below are the ten scores from our cross validation testing."
      ]
    },
    {
      "cell_type": "code",
      "metadata": {
        "id": "S08dsvjt0vbe",
        "colab_type": "code",
        "colab": {
          "base_uri": "https://localhost:8080/",
          "height": 204
        },
        "outputId": "1e34ae3f-bc1a-4479-9d55-1af019cc2f63"
      },
      "source": [
        "print(\"Cross Validation Scores : \")\n",
        "for i in range(len(cross_val_scores)):\n",
        "  print(\"Score {0}  :  {1}\".format(i+1, np.round((cross_val_scores[i]), 3)))"
      ],
      "execution_count": null,
      "outputs": [
        {
          "output_type": "stream",
          "text": [
            "Cross Validation Scores : \n",
            "Score 1  :  0.083\n",
            "Score 2  :  0.074\n",
            "Score 3  :  0.082\n",
            "Score 4  :  0.071\n",
            "Score 5  :  0.055\n",
            "Score 6  :  0.049\n",
            "Score 7  :  0.06\n",
            "Score 8  :  0.08\n",
            "Score 9  :  0.053\n",
            "Score 10  :  0.04\n"
          ],
          "name": "stdout"
        }
      ]
    },
    {
      "cell_type": "markdown",
      "metadata": {
        "id": "tODfcM5J1137",
        "colab_type": "text"
      },
      "source": [
        "# Interesting Facts"
      ]
    },
    {
      "cell_type": "markdown",
      "metadata": {
        "id": "GUogwa3Y15jI",
        "colab_type": "text"
      },
      "source": [
        "Without Feature Transformation and Extraction, the dataset was very well correlated. We found this to be very interesting and suspicious at the same time. The only preprocessing we needed was a standard scaler and an imputer for the missing values.\n",
        "\n",
        "In terms of what worked and what did not work, we realized that Extra Trees worked the best even with slight overfitting. All of the other models, worked pretty well but not quite as well as Extra Trees. Elastic Net, for example, had the highest root mean squared error of 0.14. Compared to Extra Trees, we had an initial value of 0.04, which is a pretty decent difference.\n",
        "\n",
        "We assumed that Extra Trees or Random Forest would have worked best because they are Ensemble Regressors. Ensemble regressors are more likely going to perform better than other models and are less prone to overfitting. Rather than creating our own ensemble with a strategy such as bagging or pasting, we stuck with Extra Trees and Random Forest as two of our best options.\n",
        "\n",
        "There were no apparent limitations in our system.\n"
      ]
    },
    {
      "cell_type": "markdown",
      "metadata": {
        "id": "UfwDgTCF32Rm",
        "colab_type": "text"
      },
      "source": [
        "# Data Presentation"
      ]
    },
    {
      "cell_type": "code",
      "metadata": {
        "id": "aKLAjCJ70-DO",
        "colab_type": "code",
        "colab": {
          "base_uri": "https://localhost:8080/",
          "height": 295
        },
        "outputId": "56a42ac5-9233-47db-b47f-9b5ceb970082"
      },
      "source": [
        "plt.scatter(train_set_copy['gpa'], train_set_copy['admit_chance'], alpha=0.25)\n",
        "plt.xlabel('Grade Point Average (on 4.0 scale)')\n",
        "plt.ylabel('Chance of Admittance')\n",
        "plt.title(\"GPA vs Admissions Probability\")\n",
        "pass"
      ],
      "execution_count": null,
      "outputs": [
        {
          "output_type": "display_data",
          "data": {
            "image/png": "[encoded data removed]",
            "text/plain": [
              "<Figure size 432x288 with 1 Axes>"
            ]
          },
          "metadata": {
            "tags": []
          }
        }
      ]
    },
    {
      "cell_type": "markdown",
      "metadata": {
        "id": "UCuMPEBj5doJ",
        "colab_type": "text"
      },
      "source": [
        "**The higher GPA a student has, the more likely they are to be accepted into a college, university, or graduate school.**"
      ]
    },
    {
      "cell_type": "markdown",
      "metadata": {
        "id": "zvrXOyE2BrB1",
        "colab_type": "text"
      },
      "source": [
        "Client Oriented Presentation\n",
        "-------\n",
        "Our solution achieves the business objectives because it can accurately predict an applicant's chances of being admitted to graduate school based on the given attributes. This system is more accurate and consistent than the current method of a staff member making an educated guess on if an applicant would be accepted. One interesting thing we found was that GPA was the greatest predictor or admittance chance. (the graph above shows this strong correlation).\n",
        "\n",
        "With our solution the company can consistently predict where students can go and almost guarantee where they will get in. With this the \"acceptance or your money back\" policy can stay longer and the company will lose much less money. \n"
      ]
    },
    {
      "cell_type": "code",
      "metadata": {
        "id": "nmWPAhuTBrcR",
        "colab_type": "code",
        "colab": {}
      },
      "source": [
        ""
      ],
      "execution_count": null,
      "outputs": []
    }
  ]
}